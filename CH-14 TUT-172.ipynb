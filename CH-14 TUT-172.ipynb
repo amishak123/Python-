{
 "cells": [
  {
   "cell_type": "code",
   "execution_count": 12,
   "metadata": {},
   "outputs": [
    {
     "name": "stdout",
     "output_type": "stream",
     "text": [
      "You Are Calling add\n",
      "this function takes two numbers as argument and return their sum\n",
      "9\n"
     ]
    }
   ],
   "source": [
    "#Decorators Intro PART-4\n",
    "#Decoraters-enhance the functionality of other function\n",
    "\n",
    "#output\n",
    "#you are calling add function\n",
    "#this function takes two numbers as parameter and return thier sum\n",
    "# 9\n",
    "\n",
    "from functools import wraps\n",
    "def print_function_data(function):\n",
    "    @wraps(function)\n",
    "    def wrapper_function(*args,**kwargs):\n",
    "        print(f\"You Are Calling {function.__name__}\")\n",
    "        print(f\"{function.__doc__}\")\n",
    "        return function(*args,**kwargs)\n",
    "    return wrapper_function\n",
    "\n",
    "@print_function_data\n",
    "def add(a,b):\n",
    "    '''this function takes two numbers as argument and return their sum'''\n",
    "    return a+b\n",
    "\n",
    "\n",
    "print(add(4,5))\n"
   ]
  },
  {
   "cell_type": "code",
   "execution_count": null,
   "metadata": {},
   "outputs": [],
   "source": []
  }
 ],
 "metadata": {
  "kernelspec": {
   "display_name": "Python 3",
   "language": "python",
   "name": "python3"
  },
  "language_info": {
   "codemirror_mode": {
    "name": "ipython",
    "version": 3
   },
   "file_extension": ".py",
   "mimetype": "text/x-python",
   "name": "python",
   "nbconvert_exporter": "python",
   "pygments_lexer": "ipython3",
   "version": "3.8.3"
  }
 },
 "nbformat": 4,
 "nbformat_minor": 4
}
