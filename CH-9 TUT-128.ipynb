{
 "cells": [
  {
   "cell_type": "code",
   "execution_count": 2,
   "metadata": {},
   "outputs": [
    {
     "name": "stdout",
     "output_type": "stream",
     "text": [
      "[1, 4, 9, 16, 25, 36, 49, 64, 81, 100]\n"
     ]
    }
   ],
   "source": [
    "#What is list comprehension\n",
    "#With the help of list comprehention we can create of list in one line\n",
    "#Create a list square from 1 to 10\n",
    "\n",
    "#NORMAL\n",
    "Squares=[]\n",
    "for i in range(1,11):\n",
    "    Squares.append(i**2)\n",
    "print(Squares)"
   ]
  },
  {
   "cell_type": "code",
   "execution_count": 4,
   "metadata": {},
   "outputs": [
    {
     "name": "stdout",
     "output_type": "stream",
     "text": [
      "[1, 4, 9, 16, 25, 36, 49, 64, 81, 100]\n"
     ]
    }
   ],
   "source": [
    "#LIST COMPREHENTION\n",
    "Squares2 = [i**2 for i in range(1,11)]\n",
    "print(Squares2)"
   ]
  },
  {
   "cell_type": "code",
   "execution_count": 6,
   "metadata": {},
   "outputs": [
    {
     "name": "stdout",
     "output_type": "stream",
     "text": [
      "[-1, -2, -3, -4, -5, -6, -7, -8, -9, -10]\n"
     ]
    }
   ],
   "source": [
    "#NORMAL\n",
    "Nagative=[]\n",
    "for i in range(1,11):\n",
    "    Nagative.append(-i)\n",
    "print(Nagative)"
   ]
  },
  {
   "cell_type": "code",
   "execution_count": 7,
   "metadata": {},
   "outputs": [
    {
     "name": "stdout",
     "output_type": "stream",
     "text": [
      "[-1, -2, -3, -4, -5, -6, -7, -8, -9, -10]\n"
     ]
    }
   ],
   "source": [
    "#LIST COMPREHENTION\n",
    "Nagative2= [-i for i in range(1,11)]\n",
    "print(Nagative2)"
   ]
  },
  {
   "cell_type": "code",
   "execution_count": 9,
   "metadata": {},
   "outputs": [
    {
     "name": "stdout",
     "output_type": "stream",
     "text": [
      "['a', 'b', 'v']\n"
     ]
    }
   ],
   "source": [
    "Name = [\"amisha\" , \"bhakti\" , \"vidya\"]\n",
    "#NORMAL\n",
    "New_list=[]\n",
    "for i in Name:\n",
    "    New_list.append(i[0])\n",
    "print(New_list)"
   ]
  },
  {
   "cell_type": "code",
   "execution_count": 10,
   "metadata": {},
   "outputs": [
    {
     "name": "stdout",
     "output_type": "stream",
     "text": [
      "['a', 'b', 'v']\n"
     ]
    }
   ],
   "source": [
    "Name = [\"amisha\" , \"bhakti\" , \"vidya\"]\n",
    "#LIST COMPREHENTION\n",
    "New_list=[i[0] for i in Name]\n",
    "print(New_list)"
   ]
  },
  {
   "cell_type": "code",
   "execution_count": null,
   "metadata": {},
   "outputs": [],
   "source": []
  }
 ],
 "metadata": {
  "kernelspec": {
   "display_name": "Python 3",
   "language": "python",
   "name": "python3"
  },
  "language_info": {
   "codemirror_mode": {
    "name": "ipython",
    "version": 3
   },
   "file_extension": ".py",
   "mimetype": "text/x-python",
   "name": "python",
   "nbconvert_exporter": "python",
   "pygments_lexer": "ipython3",
   "version": "3.8.3"
  }
 },
 "nbformat": 4,
 "nbformat_minor": 4
}
