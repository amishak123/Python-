{
 "cells": [
  {
   "cell_type": "code",
   "execution_count": 7,
   "metadata": {},
   "outputs": [
    {
     "name": "stdout",
     "output_type": "stream",
     "text": [
      "This is awesome function\n",
      "This is function 1\n"
     ]
    }
   ],
   "source": [
    "#Decorators Intro PART-1\n",
    "\n",
    "#Decoraters-enhance the functionality of other function\n",
    "\n",
    "def decorator_function(any_function):\n",
    "    def wrapper_function():\n",
    "        print(\"This is awesome function\")\n",
    "        any_function()\n",
    "    return wrapper_function\n",
    "\n",
    "def func1():\n",
    "    print(\"This is function 1\")\n",
    "    \n",
    "def func2():\n",
    "    print(\"This is function 1\")\n",
    "    \n",
    "\n",
    "    \n",
    "func1 = decorator_function(func1)\n",
    "func1()"
   ]
  },
  {
   "cell_type": "code",
   "execution_count": 6,
   "metadata": {},
   "outputs": [
    {
     "name": "stdout",
     "output_type": "stream",
     "text": [
      "This is awesome function\n",
      "This is function 2\n"
     ]
    }
   ],
   "source": [
    "def decorator_function(any_function):\n",
    "    def wrapper_function():\n",
    "        print(\"This is awesome function\")\n",
    "        any_function()\n",
    "    return wrapper_function\n",
    "\n",
    "def func1():\n",
    "    print(\"This is function 1\")\n",
    "    \n",
    "def func2():\n",
    "    print(\"This is function 2\")\n",
    "    \n",
    "\n",
    "    \n",
    "func2 = decorator_function(func2)\n",
    "func2()"
   ]
  },
  {
   "cell_type": "code",
   "execution_count": 14,
   "metadata": {},
   "outputs": [
    {
     "name": "stdout",
     "output_type": "stream",
     "text": [
      "This is awesome function\n",
      "This is function 1\n"
     ]
    }
   ],
   "source": [
    "\n",
    "def decorator_function(any_function):\n",
    "    def wrapper_function():\n",
    "        print(\"This is awesome function\")\n",
    "        any_function()\n",
    "    return wrapper_function\n",
    "\n",
    "\n",
    "@decorator_function\n",
    "def func1():\n",
    "    print(\"This is function 1\")\n",
    "    \n",
    "func1()"
   ]
  },
  {
   "cell_type": "code",
   "execution_count": 13,
   "metadata": {},
   "outputs": [
    {
     "name": "stdout",
     "output_type": "stream",
     "text": [
      "This is awesome function\n",
      "This is function 1\n"
     ]
    }
   ],
   "source": [
    "def decorator_function(any_function):\n",
    "    def wrapper_function():\n",
    "        print(\"This is awesome function\")\n",
    "        any_function()\n",
    "    return wrapper_function\n",
    "\n",
    "\n",
    "@decorator_function\n",
    "def func2():\n",
    "    print(\"This is function 1\")\n",
    "    \n",
    "func2()"
   ]
  },
  {
   "cell_type": "code",
   "execution_count": null,
   "metadata": {},
   "outputs": [],
   "source": []
  }
 ],
 "metadata": {
  "kernelspec": {
   "display_name": "Python 3",
   "language": "python",
   "name": "python3"
  },
  "language_info": {
   "codemirror_mode": {
    "name": "ipython",
    "version": 3
   },
   "file_extension": ".py",
   "mimetype": "text/x-python",
   "name": "python",
   "nbconvert_exporter": "python",
   "pygments_lexer": "ipython3",
   "version": "3.8.3"
  }
 },
 "nbformat": 4,
 "nbformat_minor": 4
}
