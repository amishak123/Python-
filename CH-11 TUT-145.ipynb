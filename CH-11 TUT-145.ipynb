{
 "cells": [
  {
   "cell_type": "code",
   "execution_count": 8,
   "metadata": {},
   "outputs": [
    {
     "name": "stdout",
     "output_type": "stream",
     "text": [
      "{'first_name': 'Amisha', 'last_name': 'Khedekar'}\n",
      "<class 'dict'>\n"
     ]
    }
   ],
   "source": [
    "#** Kwargs (Keywords arguments)\n",
    "#** Kwargs (Double star operator)\n",
    "\n",
    "#Kwargs as a parameter\n",
    "def func(**kwargs):\n",
    "    print(kwargs)\n",
    "    print(type(kwargs))  \n",
    "func(first_name = \"Amisha\",last_name=\"Khedekar\")"
   ]
  },
  {
   "cell_type": "code",
   "execution_count": 10,
   "metadata": {},
   "outputs": [
    {
     "name": "stdout",
     "output_type": "stream",
     "text": [
      "first_name:Amisha\n",
      "last_name:Khedekar\n"
     ]
    }
   ],
   "source": [
    "def func(**kwargs):\n",
    "    for k,v in kwargs.items():\n",
    "        print(f\"{k}:{v}\")\n",
    "        \n",
    "func(first_name = \"Amisha\",last_name=\"Khedekar\")"
   ]
  },
  {
   "cell_type": "code",
   "execution_count": 15,
   "metadata": {},
   "outputs": [
    {
     "name": "stdout",
     "output_type": "stream",
     "text": [
      "Bhakti\n",
      "{'first_name': 'Amisha', 'last_name': 'Khedekar'}\n",
      "first_name:Amisha\n",
      "last_name:Khedekar\n"
     ]
    }
   ],
   "source": [
    "def func(name,**kwargs):\n",
    "    print(name)\n",
    "    print(kwargs)\n",
    "    for k,v in kwargs.items():\n",
    "        print(f\"{k}:{v}\")\n",
    "        \n",
    "func(\"Bhakti\",first_name = \"Amisha\",last_name=\"Khedekar\")"
   ]
  },
  {
   "cell_type": "code",
   "execution_count": 14,
   "metadata": {},
   "outputs": [
    {
     "ename": "TypeError",
     "evalue": "func() missing 1 required positional argument: 'name'",
     "output_type": "error",
     "traceback": [
      "\u001b[1;31m---------------------------------------------------------------------------\u001b[0m",
      "\u001b[1;31mTypeError\u001b[0m                                 Traceback (most recent call last)",
      "\u001b[1;32m<ipython-input-14-da048b607d7e>\u001b[0m in \u001b[0;36m<module>\u001b[1;34m\u001b[0m\n\u001b[0;32m      3\u001b[0m         \u001b[0mprint\u001b[0m\u001b[1;33m(\u001b[0m\u001b[1;34mf\"{k}:{v}\"\u001b[0m\u001b[1;33m)\u001b[0m\u001b[1;33m\u001b[0m\u001b[1;33m\u001b[0m\u001b[0m\n\u001b[0;32m      4\u001b[0m \u001b[1;33m\u001b[0m\u001b[0m\n\u001b[1;32m----> 5\u001b[1;33m \u001b[0mfunc\u001b[0m\u001b[1;33m(\u001b[0m\u001b[0mfirst_name\u001b[0m \u001b[1;33m=\u001b[0m \u001b[1;34m\"Amisha\"\u001b[0m\u001b[1;33m,\u001b[0m\u001b[0mlast_name\u001b[0m\u001b[1;33m=\u001b[0m\u001b[1;34m\"Khedekar\"\u001b[0m\u001b[1;33m)\u001b[0m\u001b[1;33m\u001b[0m\u001b[1;33m\u001b[0m\u001b[0m\n\u001b[0m",
      "\u001b[1;31mTypeError\u001b[0m: func() missing 1 required positional argument: 'name'"
     ]
    }
   ],
   "source": [
    "def func(name,**kwargs):\n",
    "    for k,v in kwargs.items():\n",
    "        print(f\"{k}:{v}\")\n",
    "        \n",
    "func(first_name = \"Amisha\",last_name=\"Khedekar\")"
   ]
  },
  {
   "cell_type": "code",
   "execution_count": 21,
   "metadata": {},
   "outputs": [
    {
     "name": "stdout",
     "output_type": "stream",
     "text": [
      "Name:Amisha\n",
      "Age:24\n"
     ]
    }
   ],
   "source": [
    "#Dictionary unpacking\n",
    "def func(**kwargs):\n",
    "    for k,v in kwargs.items():\n",
    "        print(f\"{k}:{v}\")\n",
    "        \n",
    "d = {'Name' : 'Amisha','Age' : 24}\n",
    "func(**d)"
   ]
  },
  {
   "cell_type": "code",
   "execution_count": null,
   "metadata": {},
   "outputs": [],
   "source": []
  }
 ],
 "metadata": {
  "kernelspec": {
   "display_name": "Python 3",
   "language": "python",
   "name": "python3"
  },
  "language_info": {
   "codemirror_mode": {
    "name": "ipython",
    "version": 3
   },
   "file_extension": ".py",
   "mimetype": "text/x-python",
   "name": "python",
   "nbconvert_exporter": "python",
   "pygments_lexer": "ipython3",
   "version": "3.8.3"
  }
 },
 "nbformat": 4,
 "nbformat_minor": 4
}
