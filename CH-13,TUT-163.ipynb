{
 "cells": [
  {
   "cell_type": "code",
   "execution_count": 11,
   "metadata": {
    "scrolled": true
   },
   "outputs": [
    {
     "name": "stdout",
     "output_type": "stream",
     "text": [
      "['Apple', 'Kiwi', 'Lichi', 'Mango']\n"
     ]
    }
   ],
   "source": [
    "#Advance sorted function \n",
    "\n",
    "#Normal sort method (Support)\n",
    "Fruits = ['Mango','Apple','Lichi','Kiwi' ]\n",
    "Fruits.sort()\n",
    "print(Fruits)\n"
   ]
  },
  {
   "cell_type": "code",
   "execution_count": 12,
   "metadata": {
    "scrolled": true
   },
   "outputs": [
    {
     "ename": "AttributeError",
     "evalue": "'tuple' object has no attribute 'sort'",
     "output_type": "error",
     "traceback": [
      "\u001b[1;31m---------------------------------------------------------------------------\u001b[0m",
      "\u001b[1;31mAttributeError\u001b[0m                            Traceback (most recent call last)",
      "\u001b[1;32m<ipython-input-12-cf64c8251edc>\u001b[0m in \u001b[0;36m<module>\u001b[1;34m\u001b[0m\n\u001b[0;32m      1\u001b[0m \u001b[1;31m#(Not-Support)\u001b[0m\u001b[1;33m\u001b[0m\u001b[1;33m\u001b[0m\u001b[1;33m\u001b[0m\u001b[0m\n\u001b[0;32m      2\u001b[0m \u001b[0mFruits2\u001b[0m \u001b[1;33m=\u001b[0m \u001b[1;33m(\u001b[0m\u001b[1;34m'Mango'\u001b[0m\u001b[1;33m,\u001b[0m\u001b[1;34m'Lichi'\u001b[0m\u001b[1;33m,\u001b[0m\u001b[1;34m'Kiwi'\u001b[0m\u001b[1;33m)\u001b[0m\u001b[1;33m\u001b[0m\u001b[1;33m\u001b[0m\u001b[0m\n\u001b[1;32m----> 3\u001b[1;33m \u001b[0mFruits2\u001b[0m\u001b[1;33m.\u001b[0m\u001b[0msort\u001b[0m\u001b[1;33m(\u001b[0m\u001b[1;33m)\u001b[0m\u001b[1;33m\u001b[0m\u001b[1;33m\u001b[0m\u001b[0m\n\u001b[0m\u001b[0;32m      4\u001b[0m \u001b[0mprint\u001b[0m\u001b[1;33m(\u001b[0m\u001b[0mFruits2\u001b[0m\u001b[1;33m)\u001b[0m\u001b[1;33m\u001b[0m\u001b[1;33m\u001b[0m\u001b[0m\n",
      "\u001b[1;31mAttributeError\u001b[0m: 'tuple' object has no attribute 'sort'"
     ]
    }
   ],
   "source": [
    "#(Not-Support)\n",
    "Fruits2 = ('Mango','Lichi','Kiwi')\n",
    "Fruits2.sort()\n",
    "print(Fruits2)\n"
   ]
  },
  {
   "cell_type": "code",
   "execution_count": 16,
   "metadata": {},
   "outputs": [
    {
     "name": "stdout",
     "output_type": "stream",
     "text": [
      "['Apple', 'Kiwi', 'Lichi', 'Mango']\n"
     ]
    }
   ],
   "source": [
    "Fruits3= {'Mango','Apple','Lichi','Kiwi'}\n",
    "print(sorted(Fruits3))"
   ]
  },
  {
   "cell_type": "code",
   "execution_count": 17,
   "metadata": {},
   "outputs": [
    {
     "name": "stdout",
     "output_type": "stream",
     "text": [
      "['Kiwi', 'Lichi', 'Mango']\n"
     ]
    }
   ],
   "source": [
    "Fruits2 = ('Mango','Lichi','Kiwi')\n",
    "print(sorted(Fruits2))"
   ]
  },
  {
   "cell_type": "code",
   "execution_count": 21,
   "metadata": {},
   "outputs": [
    {
     "name": "stdout",
     "output_type": "stream",
     "text": [
      "[{'Model': 'MI redami', 'Price': 6000}, {'Model': 'Real_me', 'Price': 15000}, {'Model': 'i-phone', 'Price': 35000}, {'Model': 'apple', 'Price': 50000}]\n"
     ]
    }
   ],
   "source": [
    "TEC = [\n",
    "    \n",
    "    {'Model':'i-phone', 'Price':35000},\n",
    "    {'Model':'MI redami', 'Price':6000},\n",
    "    {'Model':'Real_me', 'Price':15000},\n",
    "    {'Model':'apple', 'Price':50000}\n",
    "]\n",
    "\n",
    "print(sorted(TEC , key = lambda d:d['Price']))"
   ]
  },
  {
   "cell_type": "code",
   "execution_count": 22,
   "metadata": {},
   "outputs": [
    {
     "name": "stdout",
     "output_type": "stream",
     "text": [
      "[{'Model': 'apple', 'Price': 50000}, {'Model': 'i-phone', 'Price': 35000}, {'Model': 'Real_me', 'Price': 15000}, {'Model': 'MI redami', 'Price': 6000}]\n"
     ]
    }
   ],
   "source": [
    "TEC = [\n",
    "    \n",
    "    {'Model':'i-phone', 'Price':35000},\n",
    "    {'Model':'MI redami', 'Price':6000},\n",
    "    {'Model':'Real_me', 'Price':15000},\n",
    "    {'Model':'apple', 'Price':50000}\n",
    "]\n",
    "\n",
    "print(sorted(TEC , key = lambda d:d['Price'] , reverse=True))"
   ]
  },
  {
   "cell_type": "code",
   "execution_count": 25,
   "metadata": {},
   "outputs": [
    {
     "name": "stdout",
     "output_type": "stream",
     "text": [
      "[{'Model': 'apple', 'Price': 50000}, {'Model': 'i-phone', 'Price': 35000}, {'Model': 'Real_me', 'Price': 15000}, {'Model': 'MI redami', 'Price': 6000}]\n"
     ]
    }
   ],
   "source": [
    "TEC = [\n",
    "    \n",
    "    {'Model':'i-phone', 'Price':35000},\n",
    "    {'Model':'MI redami', 'Price':6000},\n",
    "    {'Model':'Real_me', 'Price':15000},\n",
    "    {'Model':'apple', 'Price':50000}\n",
    "]\n",
    "\n",
    "Sorted_group= sorted(TEC , key = lambda d:d['Price'] , reverse=True)\n",
    "print(Sorted_group)"
   ]
  },
  {
   "cell_type": "code",
   "execution_count": null,
   "metadata": {},
   "outputs": [],
   "source": []
  }
 ],
 "metadata": {
  "kernelspec": {
   "display_name": "Python 3",
   "language": "python",
   "name": "python3"
  },
  "language_info": {
   "codemirror_mode": {
    "name": "ipython",
    "version": 3
   },
   "file_extension": ".py",
   "mimetype": "text/x-python",
   "name": "python",
   "nbconvert_exporter": "python",
   "pygments_lexer": "ipython3",
   "version": "3.8.3"
  }
 },
 "nbformat": 4,
 "nbformat_minor": 4
}
