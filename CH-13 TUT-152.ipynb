{
 "cells": [
  {
   "cell_type": "code",
   "execution_count": 1,
   "metadata": {},
   "outputs": [],
   "source": [
    "#Enumerate function \n",
    "\n",
    "#We can enumerate function with for loop to track position of our\n",
    "#item in iterable\n",
    "\n",
    "#How we can do this without enumerate function\n",
    "\n",
    "#with enumerate function\n",
    "\n",
    "\n",
    "#Define a function that take two argument\n",
    "# 1) list comtaining string\n",
    "# 2) string that want to find in your list\n",
    "# And this function will return the index of string in your list \n",
    "# and if string is not present then return -1\n",
    "\n"
   ]
  },
  {
   "cell_type": "code",
   "execution_count": 11,
   "metadata": {},
   "outputs": [
    {
     "name": "stdout",
     "output_type": "stream",
     "text": [
      "0 ---> ['Amisha', 'Bhakti', 'Vidya']\n",
      "1 ---> ['Amisha', 'Bhakti', 'Vidya']\n",
      "2 ---> ['Amisha', 'Bhakti', 'Vidya']\n"
     ]
    }
   ],
   "source": [
    "#How we can do this without enumerate function\n",
    "Name = ['Amisha' , 'Bhakti' , 'Vidya']\n",
    "#OUTPUT----> 0--'Amisha'\n",
    "#            1--'Bhakti'\n",
    "pos = 0\n",
    "for i  in Name:\n",
    "    print(f\"{pos} ---> {Name}\")\n",
    "    pos += 1\n",
    "    \n"
   ]
  },
  {
   "cell_type": "code",
   "execution_count": 12,
   "metadata": {},
   "outputs": [
    {
     "name": "stdout",
     "output_type": "stream",
     "text": [
      "0 ---> Amisha\n",
      "1 ---> Bhakti\n",
      "2 ---> Vidya\n"
     ]
    }
   ],
   "source": [
    "#with enumerate function\n",
    "\n",
    "Name = ['Amisha' , 'Bhakti' , 'Vidya']\n",
    "for pos , Name in enumerate(Name):\n",
    "    print(f\"{pos} ---> {Name}\")"
   ]
  },
  {
   "cell_type": "code",
   "execution_count": 14,
   "metadata": {},
   "outputs": [
    {
     "data": {
      "text/plain": [
       "0"
      ]
     },
     "execution_count": 14,
     "metadata": {},
     "output_type": "execute_result"
    }
   ],
   "source": [
    "#Define a function that take two argument\n",
    "# 1) list comtaining string\n",
    "# 2) string that want to find in your list\n",
    "# And this function will return the index of string in your list \n",
    "# and if string is not present then return -1\n",
    "\n",
    "Name = ['Amisha' , 'Bhakti' , 'Vidya']\n",
    "\n",
    "def find_pos(l , target):\n",
    "    for pos , i in enumerate(l):\n",
    "        if i == target:\n",
    "            return pos\n",
    "        else:\n",
    "            return -1\n",
    "        \n",
    "    \n",
    "find_pos(Name , \"Amisha\")"
   ]
  },
  {
   "cell_type": "code",
   "execution_count": 15,
   "metadata": {},
   "outputs": [
    {
     "data": {
      "text/plain": [
       "-1"
      ]
     },
     "execution_count": 15,
     "metadata": {},
     "output_type": "execute_result"
    }
   ],
   "source": [
    "\n",
    "Name = ['Amisha' , 'Bhakti' , 'Vidya']\n",
    "\n",
    "def find_pos(l , target):\n",
    "    for pos , i in enumerate(l):\n",
    "        if i == target:\n",
    "            return pos\n",
    "        else:\n",
    "            return -1\n",
    "        \n",
    "    \n",
    "find_pos(Name , \"Bunny\")"
   ]
  },
  {
   "cell_type": "code",
   "execution_count": null,
   "metadata": {},
   "outputs": [],
   "source": []
  }
 ],
 "metadata": {
  "kernelspec": {
   "display_name": "Python 3",
   "language": "python",
   "name": "python3"
  },
  "language_info": {
   "codemirror_mode": {
    "name": "ipython",
    "version": 3
   },
   "file_extension": ".py",
   "mimetype": "text/x-python",
   "name": "python",
   "nbconvert_exporter": "python",
   "pygments_lexer": "ipython3",
   "version": "3.8.3"
  }
 },
 "nbformat": 4,
 "nbformat_minor": 4
}
