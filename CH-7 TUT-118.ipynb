{
 "cells": [
  {
   "cell_type": "code",
   "execution_count": 6,
   "metadata": {},
   "outputs": [
    {
     "name": "stdout",
     "output_type": "stream",
     "text": [
      "{'Name': 'Unknown', 'Age': 'Unknown', 'Height': 'Unknown'}\n",
      "{'Name': 'Unknown', 'Age': 'Unknown', 'Height': 'Unknown'}\n"
     ]
    }
   ],
   "source": [
    "# Fromkeys,Get,Copy,Clear method \n",
    "\n",
    "#Fromkeys\n",
    "\n",
    "d = dict.fromkeys(['Name','Age','Height'] ,'Unknown')\n",
    "print(d)\n",
    "\n",
    "\n",
    "a = dict.fromkeys(('Name','Age','Height') ,'Unknown')\n",
    "print(a)"
   ]
  },
  {
   "cell_type": "code",
   "execution_count": 7,
   "metadata": {},
   "outputs": [
    {
     "name": "stdout",
     "output_type": "stream",
     "text": [
      "{'a': 'Unknown', 'b': 'Unknown', 'c': 'Unknown'}\n"
     ]
    }
   ],
   "source": [
    "d = dict.fromkeys(\"abc\",'Unknown')\n",
    "print(d)\n"
   ]
  },
  {
   "cell_type": "code",
   "execution_count": 8,
   "metadata": {},
   "outputs": [
    {
     "name": "stdout",
     "output_type": "stream",
     "text": [
      "{1: 'Unknown', 2: 'Unknown', 3: 'Unknown', 4: 'Unknown', 5: 'Unknown', 6: 'Unknown', 7: 'Unknown', 8: 'Unknown', 9: 'Unknown', 10: 'Unknown'}\n"
     ]
    }
   ],
   "source": [
    "d = dict.fromkeys(range(1,11) ,'Unknown')\n",
    "print(d)\n"
   ]
  },
  {
   "cell_type": "code",
   "execution_count": 10,
   "metadata": {},
   "outputs": [
    {
     "name": "stdout",
     "output_type": "stream",
     "text": [
      "{'Name': ['Unknown', 'Unknown'], 'Age': ['Unknown', 'Unknown']}\n"
     ]
    }
   ],
   "source": [
    "d = dict.fromkeys(['Name','Age'] ,[\"Unknown\" , \"Unknown\"])\n",
    "print(d)\n"
   ]
  },
  {
   "cell_type": "code",
   "execution_count": 19,
   "metadata": {},
   "outputs": [
    {
     "name": "stdout",
     "output_type": "stream",
     "text": [
      "Unknown\n"
     ]
    },
    {
     "ename": "KeyError",
     "evalue": "'Names'",
     "output_type": "error",
     "traceback": [
      "\u001b[1;31m---------------------------------------------------------------------------\u001b[0m",
      "\u001b[1;31mKeyError\u001b[0m                                  Traceback (most recent call last)",
      "\u001b[1;32m<ipython-input-19-b95775aa2d2d>\u001b[0m in \u001b[0;36m<module>\u001b[1;34m\u001b[0m\n\u001b[0;32m      6\u001b[0m \u001b[1;33m\u001b[0m\u001b[0m\n\u001b[0;32m      7\u001b[0m \u001b[0md\u001b[0m \u001b[1;33m=\u001b[0m \u001b[1;33m{\u001b[0m\u001b[1;34m\"Name\"\u001b[0m \u001b[1;33m:\u001b[0m \u001b[1;34m\"Unknown\"\u001b[0m \u001b[1;33m,\u001b[0m\u001b[1;34m\"Age\"\u001b[0m \u001b[1;33m:\u001b[0m \u001b[1;34m\"Unknown\"\u001b[0m\u001b[1;33m}\u001b[0m\u001b[1;33m\u001b[0m\u001b[1;33m\u001b[0m\u001b[0m\n\u001b[1;32m----> 8\u001b[1;33m \u001b[0mprint\u001b[0m\u001b[1;33m(\u001b[0m\u001b[0md\u001b[0m\u001b[1;33m[\u001b[0m\u001b[1;34m\"Names\"\u001b[0m\u001b[1;33m]\u001b[0m\u001b[1;33m)\u001b[0m\u001b[1;33m\u001b[0m\u001b[1;33m\u001b[0m\u001b[0m\n\u001b[0m\u001b[0;32m      9\u001b[0m \u001b[1;33m\u001b[0m\u001b[0m\n",
      "\u001b[1;31mKeyError\u001b[0m: 'Names'"
     ]
    }
   ],
   "source": [
    "#Get method \n",
    "\n",
    "d = {\"Name\" : \"Unknown\" ,\"Age\" : \"Unknown\"}\n",
    "print(d[\"Name\"])\n",
    "\n",
    "\n",
    "d = {\"Name\" : \"Unknown\" ,\"Age\" : \"Unknown\"}\n",
    "print(d[\"Names\"])\n",
    "\n"
   ]
  },
  {
   "cell_type": "code",
   "execution_count": 18,
   "metadata": {},
   "outputs": [
    {
     "name": "stdout",
     "output_type": "stream",
     "text": [
      "None\n"
     ]
    }
   ],
   "source": [
    "d = {\"Name\" : \"Unknown\" ,\"Age\" : \"Unknown\"}\n",
    "print(d.get(\"Names\"))"
   ]
  },
  {
   "cell_type": "code",
   "execution_count": 23,
   "metadata": {},
   "outputs": [
    {
     "name": "stdout",
     "output_type": "stream",
     "text": [
      "PRESENT\n",
      "NOT PRESENT\n"
     ]
    }
   ],
   "source": [
    "d = {\"Name\" : \"Unknown\" ,\"Age\" : \"Unknown\"}\n",
    "#NORMAL\n",
    "if \"Name\" in d:\n",
    "    print(\"PRESENT\")\n",
    "else:\n",
    "    print(\"NOT PRESENT\")\n",
    "    \n",
    "\n",
    "    \n",
    "#GET METHOD   \n",
    "if d.get(\"Names\"):\n",
    "    print(\"PRESENT\")\n",
    "else:\n",
    "    print(\"NOT PRESENT\")\n",
    "    \n",
    "    \n",
    "    \n",
    "#if none........False , else.........True"
   ]
  },
  {
   "cell_type": "code",
   "execution_count": 24,
   "metadata": {},
   "outputs": [
    {
     "name": "stdout",
     "output_type": "stream",
     "text": [
      "{}\n"
     ]
    }
   ],
   "source": [
    "#clear()method\n",
    "d = {\"Name\" : \"Unknown\" ,\"Age\" : \"Unknown\"}\n",
    "d.clear()\n",
    "print(d)"
   ]
  },
  {
   "cell_type": "code",
   "execution_count": 26,
   "metadata": {},
   "outputs": [
    {
     "name": "stdout",
     "output_type": "stream",
     "text": [
      "{'Name': 'Unknown', 'Age': 'Unknown'}\n"
     ]
    }
   ],
   "source": [
    "#copy()method\n",
    "d = {\"Name\" : \"Unknown\" ,\"Age\" : \"Unknown\"}\n",
    "d1=d.copy()\n",
    "print(d1)"
   ]
  },
  {
   "cell_type": "code",
   "execution_count": 27,
   "metadata": {
    "scrolled": true
   },
   "outputs": [
    {
     "name": "stdout",
     "output_type": "stream",
     "text": [
      "('Age', 'Unknown')\n",
      "{'Name': 'Unknown'}\n"
     ]
    }
   ],
   "source": [
    "#copy()method\n",
    "d = {\"Name\" : \"Unknown\" ,\"Age\" : \"Unknown\"}\n",
    "d1= {\"Name\" : \"Unknown\" ,\"Age\" : \"Unknown\"}\n",
    "d=d1\n",
    "print(d1.popitem())\n",
    "print(d)"
   ]
  },
  {
   "cell_type": "code",
   "execution_count": 28,
   "metadata": {},
   "outputs": [
    {
     "name": "stdout",
     "output_type": "stream",
     "text": [
      "('Age', 'Unknown')\n",
      "{'Name': 'Unknown', 'Age': 'Unknown'}\n"
     ]
    }
   ],
   "source": [
    "#copy()method\n",
    "d = {\"Name\" : \"Unknown\" ,\"Age\" : \"Unknown\"}\n",
    "d1= {\"Name\" : \"Unknown\" ,\"Age\" : \"Unknown\"}\n",
    "d1=d.copy()\n",
    "print(d1.popitem())\n",
    "print(d)"
   ]
  },
  {
   "cell_type": "code",
   "execution_count": 29,
   "metadata": {},
   "outputs": [
    {
     "name": "stdout",
     "output_type": "stream",
     "text": [
      "False\n"
     ]
    }
   ],
   "source": [
    "d = {\"Name\" : \"Unknown\" ,\"Age\" : \"Unknown\"}\n",
    "d1= {\"Name\" : \"Unknown\" ,\"Age\" : \"Unknown\"}\n",
    "d1=d.copy()\n",
    "print(d1 is d)"
   ]
  },
  {
   "cell_type": "code",
   "execution_count": 33,
   "metadata": {},
   "outputs": [
    {
     "name": "stdout",
     "output_type": "stream",
     "text": [
      "True\n"
     ]
    }
   ],
   "source": [
    "d = {\"Name\" : \"Unknown\" ,\"Age\" : \"Unknown\"}\n",
    "d1= {\"Name\" : \"Unknown\" ,\"Age\" : \"Unknown\"}\n",
    "d1=d.copy()\n",
    "print(d1 == d)"
   ]
  },
  {
   "cell_type": "code",
   "execution_count": 36,
   "metadata": {},
   "outputs": [
    {
     "name": "stdout",
     "output_type": "stream",
     "text": [
      "True\n"
     ]
    }
   ],
   "source": [
    "d = {\"Name\" : \"Unknown\" ,\"Age\" : \"Unknown\"}\n",
    "d1= {\"Name\" : \"Unknown\" ,\"Age\" : \"Unknown\"}\n",
    "d1=d\n",
    "print(d1 is d)"
   ]
  },
  {
   "cell_type": "code",
   "execution_count": 37,
   "metadata": {},
   "outputs": [
    {
     "name": "stdout",
     "output_type": "stream",
     "text": [
      "True\n"
     ]
    }
   ],
   "source": [
    "d = {\"Name\" : \"Unknown\" ,\"Age\" : \"Unknown\"}\n",
    "d1= {\"Name\" : \"Unknown\" ,\"Age\" : \"Unknown\"}\n",
    "d1=d\n",
    "print(d1 == d)"
   ]
  },
  {
   "cell_type": "code",
   "execution_count": null,
   "metadata": {},
   "outputs": [],
   "source": []
  }
 ],
 "metadata": {
  "kernelspec": {
   "display_name": "Python 3",
   "language": "python",
   "name": "python3"
  },
  "language_info": {
   "codemirror_mode": {
    "name": "ipython",
    "version": 3
   },
   "file_extension": ".py",
   "mimetype": "text/x-python",
   "name": "python",
   "nbconvert_exporter": "python",
   "pygments_lexer": "ipython3",
   "version": "3.8.3"
  }
 },
 "nbformat": 4,
 "nbformat_minor": 4
}
