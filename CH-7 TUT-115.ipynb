{
 "cells": [
  {
   "cell_type": "code",
   "execution_count": 12,
   "metadata": {},
   "outputs": [
    {
     "name": "stdout",
     "output_type": "stream",
     "text": [
      "PRESENT\n",
      "NOT PRESENT\n"
     ]
    }
   ],
   "source": [
    "# In keyword and interation in dictionary\n",
    "\n",
    "User_info ={\n",
    "    \"Name\" : \"Amisha\",\n",
    "    \"Age\"  :  20 ,\n",
    "    \"Fav cartoon\" : [\"coco\" , \"Popeye\"],\n",
    "    \"Fav food\" : [\"Chai\" , \"Banmaska\"],\n",
    "}\n",
    "\n",
    "#Check if key exist in dictionary\n",
    "if \"Name\" in User_info:\n",
    "    print(\"PRESENT\")\n",
    "else:\n",
    "    print(\"NOT PRESENT\")\n",
    "    "
   ]
  },
  {
   "cell_type": "code",
   "execution_count": 15,
   "metadata": {},
   "outputs": [
    {
     "name": "stdout",
     "output_type": "stream",
     "text": [
      "NOT PRESENT\n"
     ]
    }
   ],
   "source": [
    "User_info ={\n",
    "    \"Name\" : \"Amisha\",\n",
    "    \"Age\"  :  20 ,\n",
    "    \"Fav cartoon\" : [\"coco\" , \"Popeye\"],\n",
    "    \"Fav food\" : [\"Chai\" , \"Banmaska\"],\n",
    "}\n",
    "\n",
    "#Check if key exist in dictionary\n",
    "if \"Names\" in User_info:\n",
    "    print(\"PRESENT\")\n",
    "else:\n",
    "    print(\"NOT PRESENT\")\n",
    "    "
   ]
  },
  {
   "cell_type": "code",
   "execution_count": 14,
   "metadata": {},
   "outputs": [
    {
     "name": "stdout",
     "output_type": "stream",
     "text": [
      "PRESENT\n"
     ]
    }
   ],
   "source": [
    "User_info ={\n",
    "    \"Name\" : \"Amisha\",\n",
    "    \"Age\"  :  20 ,\n",
    "    \"Fav cartoon\" : [\"coco\" , \"Popeye\"],\n",
    "    \"Fav food\" : [\"Chai\" , \"Banmaska\"],\n",
    "}\n",
    "\n",
    "#Check if value exist in dictionary\n",
    "if \"Amisha\" in User_info.values():\n",
    "    print(\"PRESENT\")\n",
    "else:\n",
    "    print(\"NOT PRESENT\")\n",
    "    \n"
   ]
  },
  {
   "cell_type": "code",
   "execution_count": 13,
   "metadata": {},
   "outputs": [
    {
     "name": "stdout",
     "output_type": "stream",
     "text": [
      "NOT PRESENT\n"
     ]
    }
   ],
   "source": [
    "User_info ={\n",
    "    \"Name\" : \"Amisha\",\n",
    "    \"Age\"  :  20 ,\n",
    "    \"Fav cartoon\" : [\"coco\" , \"Popeye\"],\n",
    "    \"Fav food\" : [\"Chai\" , \"Banmaska\"],\n",
    "}\n",
    "\n",
    "#Check if value exist in dictionary\n",
    "if \"20\" in User_info.values():       #####if 20 in User_info.values(): \n",
    "    print(\"PRESENT\")\n",
    "else:\n",
    "    print(\"NOT PRESENT\")"
   ]
  },
  {
   "cell_type": "code",
   "execution_count": 16,
   "metadata": {},
   "outputs": [
    {
     "name": "stdout",
     "output_type": "stream",
     "text": [
      "NOT PRESENT\n"
     ]
    }
   ],
   "source": [
    "User_info ={\n",
    "    \"Name\" : \"Amisha\",\n",
    "    \"Age\"  :  20 ,\n",
    "    \"Fav cartoon\" : [\"coco\" , \"Popeye\"],\n",
    "    \"Fav food\" : [\"Chai\" , \"Banmaska\"],\n",
    "}\n",
    "\n",
    "#Check if value exist in dictionary\n",
    "if \"coco\" in User_info.values():\n",
    "    print(\"PRESENT\")\n",
    "else:\n",
    "    print(\"NOT PRESENT\")\n",
    "    "
   ]
  },
  {
   "cell_type": "code",
   "execution_count": 17,
   "metadata": {},
   "outputs": [
    {
     "name": "stdout",
     "output_type": "stream",
     "text": [
      "PRESENT\n"
     ]
    }
   ],
   "source": [
    "User_info ={\n",
    "    \"Name\" : \"Amisha\",\n",
    "    \"Age\"  :  20 ,\n",
    "    \"Fav cartoon\" : [\"coco\" , \"Popeye\"],\n",
    "    \"Fav food\" : [\"Chai\" , \"Banmaska\"],\n",
    "}\n",
    "\n",
    "#Check if value exist in dictionary\n",
    "if  [\"coco\" , \"Popeye\"] in User_info.values():\n",
    "    print(\"PRESENT\")\n",
    "else:\n",
    "    print(\"NOT PRESENT\")\n",
    "    "
   ]
  },
  {
   "cell_type": "code",
   "execution_count": 19,
   "metadata": {},
   "outputs": [
    {
     "name": "stdout",
     "output_type": "stream",
     "text": [
      "Name\n",
      "Age\n",
      "Fav cartoon\n",
      "Fav food\n"
     ]
    }
   ],
   "source": [
    "# Loops in dictionary (Key)\n",
    "\n",
    "User_info ={\n",
    "    \"Name\" : \"Amisha\",\n",
    "    \"Age\"  :  20 ,\n",
    "    \"Fav cartoon\" : [\"coco\" , \"Popeye\"],\n",
    "    \"Fav food\" : [\"Chai\" , \"Banmaska\"],\n",
    "}\n",
    "\n",
    "for i in User_info:\n",
    "    print(i)"
   ]
  },
  {
   "cell_type": "code",
   "execution_count": 21,
   "metadata": {},
   "outputs": [
    {
     "name": "stdout",
     "output_type": "stream",
     "text": [
      "Amisha\n",
      "20\n",
      "['coco', 'Popeye']\n",
      "['Chai', 'Banmaska']\n"
     ]
    }
   ],
   "source": [
    "# Loops in dictionary (Values)\n",
    "\n",
    "User_info ={\n",
    "    \"Name\" : \"Amisha\",\n",
    "    \"Age\"  :  20 ,\n",
    "    \"Fav cartoon\" : [\"coco\" , \"Popeye\"],\n",
    "    \"Fav food\" : [\"Chai\" , \"Banmaska\"],\n",
    "}\n",
    "\n",
    "for i in User_info.values():\n",
    "    print(i)"
   ]
  },
  {
   "cell_type": "code",
   "execution_count": 23,
   "metadata": {},
   "outputs": [
    {
     "name": "stdout",
     "output_type": "stream",
     "text": [
      "dict_values(['Amisha', 20, ['coco', 'Popeye'], ['Chai', 'Banmaska']])\n",
      "<class 'dict_values'>\n"
     ]
    }
   ],
   "source": [
    "#Value Method\n",
    "\n",
    "User_info ={\n",
    "    \"Name\" : \"Amisha\",\n",
    "    \"Age\"  :  20 ,\n",
    "    \"Fav cartoon\" : [\"coco\" , \"Popeye\"],\n",
    "    \"Fav food\" : [\"Chai\" , \"Banmaska\"],\n",
    "}\n",
    "User_info_values = User_info.values()\n",
    "print(User_info_values)\n",
    "print(type(User_info_values))"
   ]
  },
  {
   "cell_type": "code",
   "execution_count": 25,
   "metadata": {},
   "outputs": [
    {
     "name": "stdout",
     "output_type": "stream",
     "text": [
      "dict_keys(['Name', 'Age', 'Fav cartoon', 'Fav food'])\n",
      "<class 'dict_keys'>\n"
     ]
    }
   ],
   "source": [
    "# Key method\n",
    "\n",
    "User_info ={\n",
    "    \"Name\" : \"Amisha\",\n",
    "    \"Age\"  :  20 ,\n",
    "    \"Fav cartoon\" : [\"coco\" , \"Popeye\"],\n",
    "    \"Fav food\" : [\"Chai\" , \"Banmaska\"],\n",
    "}\n",
    "User_info_keys = User_info.keys()\n",
    "print(User_info_keys)\n",
    "print(type(User_info_keys))"
   ]
  },
  {
   "cell_type": "code",
   "execution_count": 29,
   "metadata": {},
   "outputs": [
    {
     "name": "stdout",
     "output_type": "stream",
     "text": [
      "Amisha\n",
      "20\n",
      "['coco', 'Popeye']\n",
      "['Chai', 'Banmaska']\n"
     ]
    }
   ],
   "source": [
    "# Loop in dictionary\n",
    "\n",
    "User_info ={\n",
    "    \"Name\" : \"Amisha\",\n",
    "    \"Age\"  :  20 ,\n",
    "    \"Fav cartoon\" : [\"coco\" , \"Popeye\"],\n",
    "    \"Fav food\" : [\"Chai\" , \"Banmaska\"],\n",
    "}\n",
    "for i in User_info:\n",
    "    print(User_info[i])\n"
   ]
  },
  {
   "cell_type": "code",
   "execution_count": 30,
   "metadata": {},
   "outputs": [
    {
     "name": "stdout",
     "output_type": "stream",
     "text": [
      "dict_items([('Name', 'Amisha'), ('Age', 20), ('Fav cartoon', ['coco', 'Popeye']), ('Fav food', ['Chai', 'Banmaska'])])\n",
      "<class 'dict_items'>\n"
     ]
    }
   ],
   "source": [
    "# Items method\n",
    "\n",
    "User_info ={\n",
    "    \"Name\" : \"Amisha\",\n",
    "    \"Age\"  :  20 ,\n",
    "    \"Fav cartoon\" : [\"coco\" , \"Popeye\"],\n",
    "    \"Fav food\" : [\"Chai\" , \"Banmaska\"],\n",
    "}\n",
    "\n",
    "User_items=User_info.items()\n",
    "print(User_items)\n",
    "print(type(User_items))"
   ]
  },
  {
   "cell_type": "code",
   "execution_count": 34,
   "metadata": {},
   "outputs": [
    {
     "name": "stdout",
     "output_type": "stream",
     "text": [
      "key is Name and value is Amisha\n",
      "key is Age and value is 20\n",
      "key is Fav cartoon and value is ['coco', 'Popeye']\n",
      "key is Fav food and value is ['Chai', 'Banmaska']\n"
     ]
    }
   ],
   "source": [
    "User_info ={\n",
    "    \"Name\" : \"Amisha\",\n",
    "    \"Age\"  :  20 ,\n",
    "    \"Fav cartoon\" : [\"coco\" , \"Popeye\"],\n",
    "    \"Fav food\" : [\"Chai\" , \"Banmaska\"],\n",
    "}\n",
    "for key ,value in User_info.items():\n",
    "    print(f\"key is {key} and value is {value}\")"
   ]
  },
  {
   "cell_type": "code",
   "execution_count": 35,
   "metadata": {},
   "outputs": [
    {
     "name": "stdout",
     "output_type": "stream",
     "text": [
      "key is Name and value is Amisha\n",
      "key is Age and value is 20\n",
      "key is Fav cartoon and value is ['coco', 'Popeye']\n",
      "key is Fav food and value is ['Chai', 'Banmaska']\n"
     ]
    }
   ],
   "source": [
    "User_info ={\n",
    "    \"Name\" : \"Amisha\",\n",
    "    \"Age\"  :  20 ,\n",
    "    \"Fav cartoon\" : [\"coco\" , \"Popeye\"],\n",
    "    \"Fav food\" : [\"Chai\" , \"Banmaska\"],\n",
    "}\n",
    "for i,j in User_info.items():\n",
    "    print(f\"key is {i} and value is {j}\")"
   ]
  },
  {
   "cell_type": "code",
   "execution_count": null,
   "metadata": {},
   "outputs": [],
   "source": []
  }
 ],
 "metadata": {
  "kernelspec": {
   "display_name": "Python 3",
   "language": "python",
   "name": "python3"
  },
  "language_info": {
   "codemirror_mode": {
    "name": "ipython",
    "version": 3
   },
   "file_extension": ".py",
   "mimetype": "text/x-python",
   "name": "python",
   "nbconvert_exporter": "python",
   "pygments_lexer": "ipython3",
   "version": "3.8.3"
  }
 },
 "nbformat": 4,
 "nbformat_minor": 4
}
