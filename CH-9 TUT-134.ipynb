{
 "cells": [
  {
   "cell_type": "code",
   "execution_count": 5,
   "metadata": {},
   "outputs": [
    {
     "name": "stdout",
     "output_type": "stream",
     "text": [
      "[-1, 4, -3, 8, -5, 12, -7, 16, -9, 20]\n"
     ]
    }
   ],
   "source": [
    "#List comprehension with if else\n",
    "\n",
    "Num = [1,2,3,4,5,6,7,8,9,10]\n",
    "#OUTPUT---New_list = [-1,4,-3,16,-5,36,-7,54,-9,100]\n",
    "\n",
    "#Normal\n",
    "New_list = []\n",
    "for i in Num:\n",
    "    if i%2==0:\n",
    "        New_list.append(i*2)\n",
    "    else:\n",
    "         New_list.append(-i)\n",
    "                  \n",
    "print(New_list)"
   ]
  },
  {
   "cell_type": "code",
   "execution_count": 10,
   "metadata": {},
   "outputs": [
    {
     "name": "stdout",
     "output_type": "stream",
     "text": [
      "[-1, 4, -3, 8, -5, 12, -7, 16, -9, 20]\n"
     ]
    }
   ],
   "source": [
    "#List comprehension\n",
    "Num = [1,2,3,4,5,6,7,8,9,10]\n",
    "New_list = [i*2 if (i%2==0)  else -i for i in Num] \n",
    "print(New_list)"
   ]
  },
  {
   "cell_type": "code",
   "execution_count": null,
   "metadata": {},
   "outputs": [],
   "source": []
  }
 ],
 "metadata": {
  "kernelspec": {
   "display_name": "Python 3",
   "language": "python",
   "name": "python3"
  },
  "language_info": {
   "codemirror_mode": {
    "name": "ipython",
    "version": 3
   },
   "file_extension": ".py",
   "mimetype": "text/x-python",
   "name": "python",
   "nbconvert_exporter": "python",
   "pygments_lexer": "ipython3",
   "version": "3.8.3"
  }
 },
 "nbformat": 4,
 "nbformat_minor": 4
}
