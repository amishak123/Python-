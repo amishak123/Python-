{
 "cells": [
  {
   "cell_type": "code",
   "execution_count": 1,
   "metadata": {},
   "outputs": [
    {
     "name": "stdout",
     "output_type": "stream",
     "text": [
      "[1, 2, 3, 4, 5, 6]\n"
     ]
    }
   ],
   "source": [
    "#List\n",
    "#you can store anything in lists int,float,string\n",
    "\n",
    "Num= [1,2,3,4,5,6]\n",
    "print(Num)\n"
   ]
  },
  {
   "cell_type": "code",
   "execution_count": 3,
   "metadata": {},
   "outputs": [
    {
     "name": "stdout",
     "output_type": "stream",
     "text": [
      "['Word1', 'Word2', 'Word3']\n"
     ]
    }
   ],
   "source": [
    "Words= [\"Word1\",\"Word2\",\"Word3\"]\n",
    "print(Words)"
   ]
  },
  {
   "cell_type": "code",
   "execution_count": 4,
   "metadata": {},
   "outputs": [
    {
     "name": "stdout",
     "output_type": "stream",
     "text": [
      "[1, 2, 3, 4, 'five', 'six', 0.5, None]\n"
     ]
    }
   ],
   "source": [
    "Mix=[1,2,3,4,\"five\",\"six\",0.5,None]\n",
    "print(Mix)"
   ]
  },
  {
   "cell_type": "code",
   "execution_count": 5,
   "metadata": {},
   "outputs": [
    {
     "name": "stdout",
     "output_type": "stream",
     "text": [
      "3\n"
     ]
    }
   ],
   "source": [
    "Num= [1,2,3,4,5,6]\n",
    "print(Num[2])"
   ]
  },
  {
   "cell_type": "code",
   "execution_count": 6,
   "metadata": {},
   "outputs": [
    {
     "name": "stdout",
     "output_type": "stream",
     "text": [
      "['Word1', 'Word2']\n"
     ]
    }
   ],
   "source": [
    "Words= [\"Word1\",\"Word2\",\"Word3\"]\n",
    "print(Words[0:2])"
   ]
  },
  {
   "cell_type": "code",
   "execution_count": 7,
   "metadata": {},
   "outputs": [
    {
     "name": "stdout",
     "output_type": "stream",
     "text": [
      "None\n"
     ]
    }
   ],
   "source": [
    "Mix=[1,2,3,4,\"five\",\"six\",0.5,None]\n",
    "print(Mix[-1])"
   ]
  },
  {
   "cell_type": "code",
   "execution_count": 8,
   "metadata": {
    "scrolled": true
   },
   "outputs": [
    {
     "name": "stdout",
     "output_type": "stream",
     "text": [
      "[1, 'two', 3, 4, 'five', 'six', 0.5, None]\n"
     ]
    }
   ],
   "source": [
    "Mix=[1,2,3,4,\"five\",\"six\",0.5,None]\n",
    "Mix[1]=\"two\"\n",
    "print(Mix)"
   ]
  },
  {
   "cell_type": "code",
   "execution_count": 9,
   "metadata": {},
   "outputs": [
    {
     "name": "stdout",
     "output_type": "stream",
     "text": [
      "[1, 't', 'w', 'o']\n"
     ]
    }
   ],
   "source": [
    "Mix=[1,2,3,4,\"five\",\"six\",0.5,None]\n",
    "Mix[1:]=\"two\"\n",
    "print(Mix)"
   ]
  },
  {
   "cell_type": "code",
   "execution_count": 10,
   "metadata": {},
   "outputs": [
    {
     "name": "stdout",
     "output_type": "stream",
     "text": [
      "[1, 'TWO', 'THREE']\n"
     ]
    }
   ],
   "source": [
    "Mix=[1,2,3,4,\"five\",\"six\",0.5,None]\n",
    "Mix[1:]=[\"TWO\",\"THREE\"]\n",
    "print(Mix)"
   ]
  },
  {
   "cell_type": "code",
   "execution_count": null,
   "metadata": {},
   "outputs": [],
   "source": []
  }
 ],
 "metadata": {
  "kernelspec": {
   "display_name": "Python 3",
   "language": "python",
   "name": "python3"
  },
  "language_info": {
   "codemirror_mode": {
    "name": "ipython",
    "version": 3
   },
   "file_extension": ".py",
   "mimetype": "text/x-python",
   "name": "python",
   "nbconvert_exporter": "python",
   "pygments_lexer": "ipython3",
   "version": "3.8.3"
  }
 },
 "nbformat": 4,
 "nbformat_minor": 4
}
