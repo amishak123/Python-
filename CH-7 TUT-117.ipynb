{
 "cells": [
  {
   "cell_type": "code",
   "execution_count": 2,
   "metadata": {},
   "outputs": [
    {
     "name": "stdout",
     "output_type": "stream",
     "text": [
      "{'Name': 'Amisha', 'Age': 20, 'Fav cartoon': ['coco', 'Popeye'], 'Fav food': ['Chai', 'Banmaska'], 'State': 'Maharashtra', 'Hobbies': ['Acting', 'Cooking']}\n"
     ]
    }
   ],
   "source": [
    "# Update Dictionary\n",
    "#update()method\n",
    "\n",
    "User_info ={\n",
    "    \"Name\" : \"Amisha\",\n",
    "    \"Age\"  :  20 ,\n",
    "    \"Fav cartoon\" : [\"coco\" , \"Popeye\"],\n",
    "    \"Fav food\" : [\"Chai\" , \"Banmaska\"],\n",
    "}\n",
    "\n",
    "more_info = {\"State\" : \"Maharashtra\",\"Hobbies\" : [\"Acting\" , \"Cooking\"]}\n",
    "\n",
    "User_info.update(more_info)\n",
    "print(User_info)"
   ]
  },
  {
   "cell_type": "code",
   "execution_count": 3,
   "metadata": {},
   "outputs": [
    {
     "name": "stdout",
     "output_type": "stream",
     "text": [
      "{'Name': 'Bhakti', 'Age': 20, 'Fav cartoon': ['coco', 'Popeye'], 'Fav food': ['Chai', 'Banmaska'], 'State': 'Maharashtra', 'Hobbies': ['Acting', 'Cooking']}\n"
     ]
    }
   ],
   "source": [
    "\n",
    "User_info ={\n",
    "    \"Name\" : \"Amisha\",\n",
    "    \"Age\"  :  20 ,\n",
    "    \"Fav cartoon\" : [\"coco\" , \"Popeye\"],\n",
    "    \"Fav food\" : [\"Chai\" , \"Banmaska\"],\n",
    "}\n",
    "\n",
    "more_info = {\"Name\" : \"Bhakti\",\"State\" : \"Maharashtra\",\"Hobbies\" : [\"Acting\" , \"Cooking\"]}\n",
    "\n",
    "User_info.update(more_info)\n",
    "print(User_info)"
   ]
  },
  {
   "cell_type": "code",
   "execution_count": null,
   "metadata": {},
   "outputs": [],
   "source": []
  }
 ],
 "metadata": {
  "kernelspec": {
   "display_name": "Python 3",
   "language": "python",
   "name": "python3"
  },
  "language_info": {
   "codemirror_mode": {
    "name": "ipython",
    "version": 3
   },
   "file_extension": ".py",
   "mimetype": "text/x-python",
   "name": "python",
   "nbconvert_exporter": "python",
   "pygments_lexer": "ipython3",
   "version": "3.8.3"
  }
 },
 "nbformat": 4,
 "nbformat_minor": 4
}
