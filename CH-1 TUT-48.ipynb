{
 "cells": [
  {
   "cell_type": "code",
   "execution_count": 1,
   "metadata": {},
   "outputs": [
    {
     "name": "stdout",
     "output_type": "stream",
     "text": [
      "a present in name\n"
     ]
    }
   ],
   "source": [
    "#In keyword\n",
    "#if with in\n",
    "\n",
    "Name = \"Amisha\"\n",
    "if 'a'in Name:\n",
    "    print(\"a present in name\")\n",
    "else:\n",
    "    print(\"a is not present in name\")"
   ]
  },
  {
   "cell_type": "code",
   "execution_count": 3,
   "metadata": {},
   "outputs": [
    {
     "name": "stdout",
     "output_type": "stream",
     "text": [
      "not present in name\n"
     ]
    }
   ],
   "source": [
    "Name = \"Amisha\"\n",
    "if 'z'in Name:\n",
    "    print(\" present in name\")\n",
    "else:\n",
    "    print(\"not present in name\")"
   ]
  },
  {
   "cell_type": "code",
   "execution_count": null,
   "metadata": {},
   "outputs": [],
   "source": []
  }
 ],
 "metadata": {
  "kernelspec": {
   "display_name": "Python 3",
   "language": "python",
   "name": "python3"
  },
  "language_info": {
   "codemirror_mode": {
    "name": "ipython",
    "version": 3
   },
   "file_extension": ".py",
   "mimetype": "text/x-python",
   "name": "python",
   "nbconvert_exporter": "python",
   "pygments_lexer": "ipython3",
   "version": "3.8.3"
  }
 },
 "nbformat": 4,
 "nbformat_minor": 4
}
