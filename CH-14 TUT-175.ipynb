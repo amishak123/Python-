{
 "cells": [
  {
   "cell_type": "code",
   "execution_count": 14,
   "metadata": {},
   "outputs": [
    {
     "name": "stdout",
     "output_type": "stream",
     "text": [
      "Invalid argument\n",
      "None\n"
     ]
    }
   ],
   "source": [
    "#Decorators Practice 2\n",
    "\n",
    "\n",
    "from functools import wraps\n",
    "def only_int_allow(function):\n",
    "    @wraps(function)\n",
    "    def wrapper(*args,**kwargs):\n",
    "            data_type =[]\n",
    "            for arg in args:\n",
    "                data_type.append(type(arg)==int)\n",
    "            if all(data_type):\n",
    "                return function (*args,**kwargs)\n",
    "            else:\n",
    "                print(\"Invalid argument\")\n",
    "    return wrapper\n",
    "\n",
    "\n",
    "\n",
    "@only_int_allow\n",
    "def add_all(*args):\n",
    "    total = 0\n",
    "    for i in args:\n",
    "        total += i\n",
    "    return total\n",
    "\n",
    "print(add_all(1,2,3,4,5,[1,2]))"
   ]
  },
  {
   "cell_type": "code",
   "execution_count": 10,
   "metadata": {},
   "outputs": [
    {
     "name": "stdout",
     "output_type": "stream",
     "text": [
      "Invalid argument\n",
      "None\n"
     ]
    }
   ],
   "source": [
    "from functools import wraps\n",
    "def only_int_allow(function):\n",
    "    @wraps(function)\n",
    "    def wrapper(*args,**kwargs):\n",
    "            if all([type(arg) == int for arg in args]):\n",
    "                return function (*args,**kwargs)\n",
    "            print(\"Invalid argument\")\n",
    "    return wrapper\n",
    "\n",
    "@only_int_allow\n",
    "def add_all(*args):\n",
    "    total = 0\n",
    "    for i in args:\n",
    "        total += i\n",
    "    return total\n",
    "\n",
    "print(add_all(1,2,3,4,5,[1,2]))"
   ]
  },
  {
   "cell_type": "code",
   "execution_count": null,
   "metadata": {},
   "outputs": [],
   "source": []
  }
 ],
 "metadata": {
  "kernelspec": {
   "display_name": "Python 3",
   "language": "python",
   "name": "python3"
  },
  "language_info": {
   "codemirror_mode": {
    "name": "ipython",
    "version": 3
   },
   "file_extension": ".py",
   "mimetype": "text/x-python",
   "name": "python",
   "nbconvert_exporter": "python",
   "pygments_lexer": "ipython3",
   "version": "3.8.3"
  }
 },
 "nbformat": 4,
 "nbformat_minor": 4
}
