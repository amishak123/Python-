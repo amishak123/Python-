{
 "cells": [
  {
   "cell_type": "code",
   "execution_count": 6,
   "metadata": {},
   "outputs": [
    {
     "name": "stdout",
     "output_type": "stream",
     "text": [
      "Please input your age :15\n",
      "Ticket Price:250\n"
     ]
    }
   ],
   "source": [
    "#if elif else statement\n",
    "\n",
    "#Show ticket pricing\n",
    "#0 to 3(free)\n",
    "#4 to 10(150)\n",
    "#11 to 60(250)\n",
    "#above 60(200)\n",
    "\n",
    "Age = input(\"Please input your age :\")\n",
    "Age = int(Age)\n",
    "\n",
    "if Age==0:\n",
    "    print(\"SORRY..!! somthing is worrg \")\n",
    "elif 0<Age<=3:\n",
    "    print(\"Ticket Price:FREE\")\n",
    "elif 3<Age<=10:\n",
    "    print(\"Ticket Price:150\")\n",
    "elif 10<Age<60:\n",
    "    print(\"Ticket Price:250\")\n",
    "else:\n",
    "    print(\"Ticket Price:200\")\n",
    "\n"
   ]
  },
  {
   "cell_type": "code",
   "execution_count": 7,
   "metadata": {},
   "outputs": [
    {
     "name": "stdout",
     "output_type": "stream",
     "text": [
      "Please input your age :65\n",
      "Ticket Price:200\n"
     ]
    }
   ],
   "source": [
    "\n",
    "Age = input(\"Please input your age :\")\n",
    "Age = int(Age)\n",
    "\n",
    "if Age==0:\n",
    "    print(\"SORRY..!! somthing is worrg \")\n",
    "elif 0<Age<=3:\n",
    "    print(\"Ticket Price:FREE\")\n",
    "elif 3<Age<=10:\n",
    "    print(\"Ticket Price:150\")\n",
    "elif 10<Age<60:\n",
    "    print(\"Ticket Price:250\")\n",
    "else:\n",
    "    print(\"Ticket Price:200\")\n"
   ]
  },
  {
   "cell_type": "code",
   "execution_count": 9,
   "metadata": {},
   "outputs": [
    {
     "name": "stdout",
     "output_type": "stream",
     "text": [
      "Please input your age :0\n",
      "SORRY..!! somthing is worrg \n"
     ]
    }
   ],
   "source": [
    "\n",
    "Age = input(\"Please input your age :\")\n",
    "Age = int(Age)\n",
    "\n",
    "if Age==0 or Age<0 :\n",
    "    print(\"SORRY..!! somthing is worrg \")\n",
    "elif 0<Age<=3:\n",
    "    print(\"Ticket Price:FREE\")\n",
    "elif 3<Age<=10:\n",
    "    print(\"Ticket Price:150\")\n",
    "elif 10<Age<60:\n",
    "    print(\"Ticket Price:250\")\n",
    "else:\n",
    "    print(\"Ticket Price:200\")\n"
   ]
  },
  {
   "cell_type": "code",
   "execution_count": 10,
   "metadata": {},
   "outputs": [
    {
     "name": "stdout",
     "output_type": "stream",
     "text": [
      "Please input your age :-20\n",
      "SORRY..!! somthing is worrg \n"
     ]
    }
   ],
   "source": [
    "\n",
    "Age = input(\"Please input your age :\")\n",
    "Age = int(Age)\n",
    "\n",
    "if Age==0 or Age<0 :\n",
    "    print(\"SORRY..!! somthing is worrg \")\n",
    "elif 0<Age<=3:\n",
    "    print(\"Ticket Price:FREE\")\n",
    "elif 3<Age<=10:\n",
    "    print(\"Ticket Price:150\")\n",
    "elif 10<Age<60:\n",
    "    print(\"Ticket Price:250\")\n",
    "else:\n",
    "    print(\"Ticket Price:200\")\n"
   ]
  },
  {
   "cell_type": "code",
   "execution_count": null,
   "metadata": {},
   "outputs": [],
   "source": []
  }
 ],
 "metadata": {
  "kernelspec": {
   "display_name": "Python 3",
   "language": "python",
   "name": "python3"
  },
  "language_info": {
   "codemirror_mode": {
    "name": "ipython",
    "version": 3
   },
   "file_extension": ".py",
   "mimetype": "text/x-python",
   "name": "python",
   "nbconvert_exporter": "python",
   "pygments_lexer": "ipython3",
   "version": "3.8.3"
  }
 },
 "nbformat": 4,
 "nbformat_minor": 4
}
