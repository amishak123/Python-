{
 "cells": [
  {
   "cell_type": "code",
   "execution_count": 1,
   "metadata": {},
   "outputs": [
    {
     "name": "stdout",
     "output_type": "stream",
     "text": [
      "6\n"
     ]
    }
   ],
   "source": [
    "#FAUNCTION\n",
    "\n",
    "Name = \"Amisha\"\n",
    "print(len(Name))"
   ]
  },
  {
   "cell_type": "code",
   "execution_count": 5,
   "metadata": {},
   "outputs": [
    {
     "name": "stdout",
     "output_type": "stream",
     "text": [
      "9\n",
      "19\n",
      "8\n"
     ]
    }
   ],
   "source": [
    "def add_two(a,b):\n",
    "    return a+b\n",
    "\n",
    "Total= add_two(5,4)\n",
    "print(Total)\n",
    "\n",
    "Total= add_two(15,4)\n",
    "print(Total)\n",
    "\n",
    "print(add_two(4,4))\n"
   ]
  },
  {
   "cell_type": "code",
   "execution_count": 27,
   "metadata": {},
   "outputs": [
    {
     "name": "stdout",
     "output_type": "stream",
     "text": [
      "enter first number :20\n",
      "enter second number :10\n",
      "30\n"
     ]
    }
   ],
   "source": [
    "def add_two(num1,num2):\n",
    "    return num1 + num2\n",
    "\n",
    "a = int(input(\"enter first number :\"))\n",
    "b = int(input(\"enter second number :\"))\n",
    "total = add_two(a,b)\n",
    "print(total)"
   ]
  },
  {
   "cell_type": "code",
   "execution_count": 30,
   "metadata": {},
   "outputs": [
    {
     "name": "stdout",
     "output_type": "stream",
     "text": [
      "enter your name : AMISHA\n",
      "enter your last name : KHEDEKAR\n",
      "AMISHAKHEDEKAR\n"
     ]
    }
   ],
   "source": [
    "def add_two(num1,num2):\n",
    "    return num1 + num2\n",
    "\n",
    "first_name= input(\"enter your name : \")\n",
    "last_name = input(\"enter your last name : \")\n",
    "print(add_two(first_name,last_name))"
   ]
  },
  {
   "cell_type": "code",
   "execution_count": null,
   "metadata": {},
   "outputs": [],
   "source": []
  }
 ],
 "metadata": {
  "kernelspec": {
   "display_name": "Python 3",
   "language": "python",
   "name": "python3"
  },
  "language_info": {
   "codemirror_mode": {
    "name": "ipython",
    "version": 3
   },
   "file_extension": ".py",
   "mimetype": "text/x-python",
   "name": "python",
   "nbconvert_exporter": "python",
   "pygments_lexer": "ipython3",
   "version": "3.8.3"
  }
 },
 "nbformat": 4,
 "nbformat_minor": 4
}
