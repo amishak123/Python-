{
 "cells": [
  {
   "cell_type": "code",
   "execution_count": 4,
   "metadata": {},
   "outputs": [
    {
     "name": "stdout",
     "output_type": "stream",
     "text": [
      "enter your age :14\n",
      "You are above 14\n"
     ]
    }
   ],
   "source": [
    "#else satement\n",
    "\n",
    "Age = input(\"enter your age :\")\n",
    "Age = int(Age)\n",
    "if Age >= 14:\n",
    "    print(\"You are above 14\")\n",
    "else:\n",
    "    print(\"SORRY you can't play\")\n"
   ]
  },
  {
   "cell_type": "code",
   "execution_count": 3,
   "metadata": {},
   "outputs": [
    {
     "name": "stdout",
     "output_type": "stream",
     "text": [
      "enter your age :10\n",
      "SORRY you can't play\n"
     ]
    }
   ],
   "source": [
    "Age = input(\"enter your age :\")\n",
    "Age = int(Age)\n",
    "if Age >= 14:\n",
    "    print(\"You are above 14\")\n",
    "else:\n",
    "    print(\"SORRY you can't play\")\n"
   ]
  },
  {
   "cell_type": "code",
   "execution_count": null,
   "metadata": {},
   "outputs": [],
   "source": []
  }
 ],
 "metadata": {
  "kernelspec": {
   "display_name": "Python 3",
   "language": "python",
   "name": "python3"
  },
  "language_info": {
   "codemirror_mode": {
    "name": "ipython",
    "version": 3
   },
   "file_extension": ".py",
   "mimetype": "text/x-python",
   "name": "python",
   "nbconvert_exporter": "python",
   "pygments_lexer": "ipython3",
   "version": "3.8.3"
  }
 },
 "nbformat": 4,
 "nbformat_minor": 4
}
