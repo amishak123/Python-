{
 "cells": [
  {
   "cell_type": "code",
   "execution_count": 4,
   "metadata": {},
   "outputs": [
    {
     "name": "stdout",
     "output_type": "stream",
     "text": [
      "8\n",
      "1\n"
     ]
    }
   ],
   "source": [
    "#Advance min() and max() \n",
    "\n",
    "#Normal method\n",
    "numbers = [1,5,8,6,7,8]\n",
    "print(max(numbers))\n",
    "\n",
    "\n",
    "print(min(numbers))"
   ]
  },
  {
   "cell_type": "code",
   "execution_count": 16,
   "metadata": {},
   "outputs": [
    {
     "name": "stdout",
     "output_type": "stream",
     "text": [
      "Subdrapornima\n"
     ]
    }
   ],
   "source": [
    "#Advance min() and max()\n",
    "\n",
    "\n",
    "def func(item):\n",
    "    return len(item)\n",
    "\n",
    "names = ['Amisha' , 'Bhakti' ,'Vidya' ,'Subdrapornima']\n",
    "print(max(names , key = func))"
   ]
  },
  {
   "cell_type": "code",
   "execution_count": 15,
   "metadata": {},
   "outputs": [
    {
     "name": "stdout",
     "output_type": "stream",
     "text": [
      "Vidya\n"
     ]
    }
   ],
   "source": [
    "def func(naam):\n",
    "    return len(naam)\n",
    "\n",
    "names = ['Amisha' , 'Bhakti' ,'Vidya']\n",
    "print(min(names , key = func))"
   ]
  },
  {
   "cell_type": "code",
   "execution_count": 17,
   "metadata": {},
   "outputs": [
    {
     "name": "stdout",
     "output_type": "stream",
     "text": [
      "Amisha\n"
     ]
    }
   ],
   "source": [
    "def func(item):\n",
    "    return len(item)\n",
    "\n",
    "names = ['Amisha' , 'Bhakti' ,'Vidya']\n",
    "print(max(names , key = func))"
   ]
  },
  {
   "cell_type": "code",
   "execution_count": 18,
   "metadata": {},
   "outputs": [
    {
     "name": "stdout",
     "output_type": "stream",
     "text": [
      "Subdrapornima\n"
     ]
    }
   ],
   "source": [
    "names = ['Amisha' , 'Bhakti' ,'Vidya' ,'Subdrapornima']\n",
    "print(max(names , key = lambda item : len(item)))"
   ]
  },
  {
   "cell_type": "code",
   "execution_count": 42,
   "metadata": {},
   "outputs": [
    {
     "name": "stdout",
     "output_type": "stream",
     "text": [
      "Bhakti\n"
     ]
    }
   ],
   "source": [
    "Students = {\n",
    "    'Amisha' : {'score':90 , 'age' :20},\n",
    "    'vidya'  : {'score':75 , 'age' :19},\n",
    "    'Bhakti' : {'score':96 , 'age' :23}\n",
    "}\n",
    "\n",
    "print(max(Students , key = lambda item : Students[item]['score']))"
   ]
  },
  {
   "cell_type": "code",
   "execution_count": 35,
   "metadata": {},
   "outputs": [
    {
     "name": "stdout",
     "output_type": "stream",
     "text": [
      "{'Name': 'Bhakti', 'score': 96, 'age': 23}\n"
     ]
    }
   ],
   "source": [
    "Students2 = [\n",
    "    {'Name':'Amisha' , 'score':90 , 'age' :20},\n",
    "    {'Name':'vidya'  , 'score':75 , 'age' :19},\n",
    "    {'Name':'Bhakti' , 'score':96 , 'age' :23}\n",
    "]\n",
    "\n",
    "print(max(Students2 , key = lambda item : item.get('score')))"
   ]
  },
  {
   "cell_type": "code",
   "execution_count": 34,
   "metadata": {},
   "outputs": [
    {
     "name": "stdout",
     "output_type": "stream",
     "text": [
      "Bhakti\n"
     ]
    }
   ],
   "source": [
    "Students2 = [\n",
    "    {'Name':'Amisha' , 'score':90 , 'age' :20},\n",
    "    {'Name':'vidya'  , 'score':75 , 'age' :19},\n",
    "    {'Name':'Bhakti' , 'score':96 , 'age' :23}\n",
    "]\n",
    "\n",
    "print(max(Students2 , key = lambda item : item.get('score'))['Name'])"
   ]
  },
  {
   "cell_type": "code",
   "execution_count": 39,
   "metadata": {},
   "outputs": [
    {
     "name": "stdout",
     "output_type": "stream",
     "text": [
      "vidya\n"
     ]
    }
   ],
   "source": [
    "Students2 = [\n",
    "    {'Name':'Amisha' , 'score':90 , 'age' :20},\n",
    "    {'Name':'vidya'  , 'score':75 , 'age' :19},\n",
    "    {'Name':'Bhakti' , 'score':96 , 'age' :23}\n",
    "]\n",
    "\n",
    "print(min(Students2 , key = lambda item : item.get('age'))['Name'])"
   ]
  },
  {
   "cell_type": "code",
   "execution_count": null,
   "metadata": {},
   "outputs": [],
   "source": []
  }
 ],
 "metadata": {
  "kernelspec": {
   "display_name": "Python 3",
   "language": "python",
   "name": "python3"
  },
  "language_info": {
   "codemirror_mode": {
    "name": "ipython",
    "version": 3
   },
   "file_extension": ".py",
   "mimetype": "text/x-python",
   "name": "python",
   "nbconvert_exporter": "python",
   "pygments_lexer": "ipython3",
   "version": "3.8.3"
  }
 },
 "nbformat": 4,
 "nbformat_minor": 4
}
