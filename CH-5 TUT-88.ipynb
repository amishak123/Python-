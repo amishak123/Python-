{
 "cells": [
  {
   "cell_type": "code",
   "execution_count": 4,
   "metadata": {},
   "outputs": [
    {
     "name": "stdout",
     "output_type": "stream",
     "text": [
      "False\n"
     ]
    }
   ],
   "source": [
    "#Is V/S Equal to\n",
    "\n",
    "fruits=[\"orange\",\"kiwi\",\"mango\",\"pear\"]\n",
    "fruits2=[\"kiwi\",\"lichi\",\"banana\"]\n",
    "print(fruits==fruits2)"
   ]
  },
  {
   "cell_type": "code",
   "execution_count": 6,
   "metadata": {},
   "outputs": [
    {
     "name": "stdout",
     "output_type": "stream",
     "text": [
      "True\n"
     ]
    }
   ],
   "source": [
    "\n",
    "fruits=[\"orange\",\"kiwi\",\"mango\",\"pear\"]\n",
    "fruits2=[\"kiwi\",\"lichi\",\"banana\"]\n",
    "fruits3=[\"orange\",\"kiwi\",\"mango\",\"pear\"]\n",
    "print(fruits==fruits3)"
   ]
  },
  {
   "cell_type": "code",
   "execution_count": 7,
   "metadata": {},
   "outputs": [
    {
     "name": "stdout",
     "output_type": "stream",
     "text": [
      "False\n"
     ]
    }
   ],
   "source": [
    "\n",
    "fruits=[\"orange\",\"kiwi\",\"mango\",\"pear\"]\n",
    "fruits2=[\"kiwi\",\"lichi\",\"banana\"]\n",
    "fruits3=[\"orange\",\"kiwi\",\"mango\",\"pear\"]\n",
    "print(fruits is fruits3)"
   ]
  },
  {
   "cell_type": "code",
   "execution_count": null,
   "metadata": {},
   "outputs": [],
   "source": []
  }
 ],
 "metadata": {
  "kernelspec": {
   "display_name": "Python 3",
   "language": "python",
   "name": "python3"
  },
  "language_info": {
   "codemirror_mode": {
    "name": "ipython",
    "version": 3
   },
   "file_extension": ".py",
   "mimetype": "text/x-python",
   "name": "python",
   "nbconvert_exporter": "python",
   "pygments_lexer": "ipython3",
   "version": "3.8.3"
  }
 },
 "nbformat": 4,
 "nbformat_minor": 4
}
