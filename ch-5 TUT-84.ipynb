{
 "cells": [
  {
   "cell_type": "code",
   "execution_count": 3,
   "metadata": {},
   "outputs": [
    {
     "name": "stdout",
     "output_type": "stream",
     "text": [
      "['mango', 'lichi', 'orange']\n"
     ]
    }
   ],
   "source": [
    "fruits = [\"mango\",\"orange\"]\n",
    "fruits.insert(1,\"lichi\")\n",
    "print(fruits)"
   ]
  },
  {
   "cell_type": "code",
   "execution_count": 4,
   "metadata": {},
   "outputs": [
    {
     "name": "stdout",
     "output_type": "stream",
     "text": [
      "['mango', 'orange', 'lichi', 'apple']\n"
     ]
    }
   ],
   "source": [
    "fruits = [\"mango\",\"orange\"]\n",
    "fruits2 = [\"lichi\",\"apple\"]\n",
    "add=fruits+fruits2\n",
    "print(add)"
   ]
  },
  {
   "cell_type": "code",
   "execution_count": 5,
   "metadata": {},
   "outputs": [
    {
     "name": "stdout",
     "output_type": "stream",
     "text": [
      "['mango', 'orange', 'lichi', 'apple']\n",
      "['lichi', 'apple']\n"
     ]
    }
   ],
   "source": [
    "fruits = [\"mango\",\"orange\"]\n",
    "fruits2 = [\"lichi\",\"apple\"]\n",
    "fruits.extend(fruits2)\n",
    "print(fruits)\n",
    "print(fruits2)"
   ]
  },
  {
   "cell_type": "code",
   "execution_count": 6,
   "metadata": {},
   "outputs": [
    {
     "name": "stdout",
     "output_type": "stream",
     "text": [
      "['mango', 'orange', ['lichi', 'apple']]\n",
      "['lichi', 'apple']\n"
     ]
    }
   ],
   "source": [
    "fruits = [\"mango\",\"orange\"]\n",
    "fruits2 = [\"lichi\",\"apple\"]\n",
    "fruits.append(fruits2)\n",
    "print(fruits)\n",
    "print(fruits2)"
   ]
  },
  {
   "cell_type": "code",
   "execution_count": null,
   "metadata": {},
   "outputs": [],
   "source": []
  }
 ],
 "metadata": {
  "kernelspec": {
   "display_name": "Python 3",
   "language": "python",
   "name": "python3"
  },
  "language_info": {
   "codemirror_mode": {
    "name": "ipython",
    "version": 3
   },
   "file_extension": ".py",
   "mimetype": "text/x-python",
   "name": "python",
   "nbconvert_exporter": "python",
   "pygments_lexer": "ipython3",
   "version": "3.8.3"
  }
 },
 "nbformat": 4,
 "nbformat_minor": 4
}
