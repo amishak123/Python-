{
 "cells": [
  {
   "cell_type": "code",
   "execution_count": 1,
   "metadata": {},
   "outputs": [
    {
     "name": "stdout",
     "output_type": "stream",
     "text": [
      "Hello Amisha Your Age Is 20\n"
     ]
    }
   ],
   "source": [
    "Name = \"Amisha\"\n",
    "Age = 20\n",
    "print(\"Hello\" +\" \"+ Name +\" \"+\"Your Age Is\" +\" \"+str(Age))"
   ]
  },
  {
   "cell_type": "code",
   "execution_count": 5,
   "metadata": {},
   "outputs": [
    {
     "name": "stdout",
     "output_type": "stream",
     "text": [
      "Hello Amisha Your Age Is 20 \n"
     ]
    }
   ],
   "source": [
    "Name = \"Amisha\"\n",
    "Age = 20\n",
    "print(\"Hello {} Your Age Is {}\" .format(Name,Age))     #python3"
   ]
  },
  {
   "cell_type": "code",
   "execution_count": 7,
   "metadata": {},
   "outputs": [
    {
     "name": "stdout",
     "output_type": "stream",
     "text": [
      "Hello Amisha Your Age Is 20\n"
     ]
    }
   ],
   "source": [
    "Name = \"Amisha\"\n",
    "Age = 20\n",
    "print(f\"Hello {Name} Your Age Is {Age}\")       #python3.6"
   ]
  },
  {
   "cell_type": "code",
   "execution_count": 9,
   "metadata": {},
   "outputs": [
    {
     "name": "stdout",
     "output_type": "stream",
     "text": [
      "Hello Amisha Your Age Is 24\n",
      "Hello Amisha Your Age Is 16\n"
     ]
    }
   ],
   "source": [
    "Name = \"Amisha\"\n",
    "Age = 20\n",
    "print(f\"Hello {Name} Your Age Is {Age+4}\")       #python3.6\n",
    "\n",
    "\n",
    "\n",
    "Name = \"Amisha\"\n",
    "Age = 20\n",
    "print(\"Hello {} Your Age Is {}\" .format(Name,Age-4))"
   ]
  },
  {
   "cell_type": "code",
   "execution_count": null,
   "metadata": {},
   "outputs": [],
   "source": []
  }
 ],
 "metadata": {
  "kernelspec": {
   "display_name": "Python 3",
   "language": "python",
   "name": "python3"
  },
  "language_info": {
   "codemirror_mode": {
    "name": "ipython",
    "version": 3
   },
   "file_extension": ".py",
   "mimetype": "text/x-python",
   "name": "python",
   "nbconvert_exporter": "python",
   "pygments_lexer": "ipython3",
   "version": "3.8.3"
  }
 },
 "nbformat": 4,
 "nbformat_minor": 4
}
