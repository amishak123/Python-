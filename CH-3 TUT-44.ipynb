{
 "cells": [
  {
   "cell_type": "code",
   "execution_count": 2,
   "metadata": {},
   "outputs": [
    {
     "name": "stdout",
     "output_type": "stream",
     "text": [
      "condition true\n"
     ]
    }
   ],
   "source": [
    "#Check two condition at same time\n",
    "#And ,OR\n",
    "\n",
    "Name = \"abc\"\n",
    "Age = 20\n",
    "if Name==\"abc\" and Age==20:\n",
    "    print(\"condition true\")\n",
    "else:\n",
    "    print(\"condotion false\")"
   ]
  },
  {
   "cell_type": "code",
   "execution_count": 3,
   "metadata": {},
   "outputs": [
    {
     "name": "stdout",
     "output_type": "stream",
     "text": [
      "condotion false\n"
     ]
    }
   ],
   "source": [
    "Name = \"abc\"\n",
    "Age = 20\n",
    "if Name==\"abc\" and Age==19:\n",
    "    print(\"condition true\")\n",
    "else:\n",
    "    print(\"condotion false\")"
   ]
  },
  {
   "cell_type": "code",
   "execution_count": 4,
   "metadata": {},
   "outputs": [
    {
     "name": "stdout",
     "output_type": "stream",
     "text": [
      "condition true\n"
     ]
    }
   ],
   "source": [
    "\n",
    "Name = \"abc\"\n",
    "Age = 20\n",
    "if Name==\"abc\" or Age==20:\n",
    "    print(\"condition true\")\n",
    "else:\n",
    "    print(\"condotion false\")"
   ]
  },
  {
   "cell_type": "code",
   "execution_count": 6,
   "metadata": {},
   "outputs": [
    {
     "name": "stdout",
     "output_type": "stream",
     "text": [
      "condition true\n"
     ]
    }
   ],
   "source": [
    "\n",
    "Name = \"abc\"\n",
    "Age = 20\n",
    "if Name==\"abc\" or Age==19:\n",
    "    print(\"condition true\")\n",
    "else:\n",
    "    print(\"condotion false\")"
   ]
  },
  {
   "cell_type": "code",
   "execution_count": null,
   "metadata": {},
   "outputs": [],
   "source": []
  }
 ],
 "metadata": {
  "kernelspec": {
   "display_name": "Python 3",
   "language": "python",
   "name": "python3"
  },
  "language_info": {
   "codemirror_mode": {
    "name": "ipython",
    "version": 3
   },
   "file_extension": ".py",
   "mimetype": "text/x-python",
   "name": "python",
   "nbconvert_exporter": "python",
   "pygments_lexer": "ipython3",
   "version": "3.8.3"
  }
 },
 "nbformat": 4,
 "nbformat_minor": 4
}
