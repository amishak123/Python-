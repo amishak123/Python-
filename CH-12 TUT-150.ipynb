{
 "cells": [
  {
   "cell_type": "code",
   "execution_count": 8,
   "metadata": {},
   "outputs": [
    {
     "name": "stdout",
     "output_type": "stream",
     "text": [
      "5\n",
      "<function add at 0x0000018882D10C10>\n"
     ]
    }
   ],
   "source": [
    "#Lambda Expression(anonymous function)\n",
    "#built in , map , reduce ,filter\n",
    "\n",
    "#Normal\n",
    "def add(a,b):\n",
    "    return a+b\n",
    "\n",
    "print(add(2,3))\n",
    "\n",
    "\n",
    "print(add)"
   ]
  },
  {
   "cell_type": "code",
   "execution_count": 10,
   "metadata": {},
   "outputs": [
    {
     "name": "stdout",
     "output_type": "stream",
     "text": [
      "5\n",
      "<function <lambda> at 0x0000018882D20160>\n"
     ]
    }
   ],
   "source": [
    "#Lambda Expression\n",
    "add2= lambda a,b: a+b\n",
    "print(add2(2,3))\n",
    "\n",
    "\n",
    "print(add2)"
   ]
  },
  {
   "cell_type": "code",
   "execution_count": 7,
   "metadata": {},
   "outputs": [
    {
     "name": "stdout",
     "output_type": "stream",
     "text": [
      "6\n"
     ]
    }
   ],
   "source": [
    "Multi = lambda a,b: a*b\n",
    "print(Multi(2,3))"
   ]
  },
  {
   "cell_type": "code",
   "execution_count": null,
   "metadata": {},
   "outputs": [],
   "source": []
  }
 ],
 "metadata": {
  "kernelspec": {
   "display_name": "Python 3",
   "language": "python",
   "name": "python3"
  },
  "language_info": {
   "codemirror_mode": {
    "name": "ipython",
    "version": 3
   },
   "file_extension": ".py",
   "mimetype": "text/x-python",
   "name": "python",
   "nbconvert_exporter": "python",
   "pygments_lexer": "ipython3",
   "version": "3.8.3"
  }
 },
 "nbformat": 4,
 "nbformat_minor": 4
}
