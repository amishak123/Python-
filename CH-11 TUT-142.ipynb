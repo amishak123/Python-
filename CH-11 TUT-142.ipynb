{
 "cells": [
  {
   "cell_type": "code",
   "execution_count": 3,
   "metadata": {},
   "outputs": [
    {
     "name": "stdout",
     "output_type": "stream",
     "text": [
      "6\n"
     ]
    }
   ],
   "source": [
    "#Args as argument \n",
    "\n",
    "def multiply_num(*args):\n",
    "    multiply = 1 \n",
    "    for i in args:\n",
    "        multiply *=i\n",
    "    return multiply\n",
    "\n",
    "print(multiply_num(2,3))"
   ]
  },
  {
   "cell_type": "code",
   "execution_count": 4,
   "metadata": {},
   "outputs": [
    {
     "name": "stdout",
     "output_type": "stream",
     "text": [
      "24\n"
     ]
    }
   ],
   "source": [
    "def multiply_num(*args):   \n",
    "    multiply = 1 \n",
    "    for i in args:\n",
    "        multiply *=i\n",
    "    return multiply\n",
    "\n",
    "Num = [2,3,4]               #list\n",
    "print(multiply_num(*Num))   #Unpack"
   ]
  },
  {
   "cell_type": "code",
   "execution_count": 5,
   "metadata": {},
   "outputs": [
    {
     "name": "stdout",
     "output_type": "stream",
     "text": [
      "24\n"
     ]
    }
   ],
   "source": [
    "def multiply_num(*args):   \n",
    "    multiply = 1 \n",
    "    for i in args:\n",
    "        multiply *=i\n",
    "    return multiply\n",
    "\n",
    "Num = (2,3,4)               #tuple\n",
    "print(multiply_num(*Num))   "
   ]
  },
  {
   "cell_type": "code",
   "execution_count": null,
   "metadata": {},
   "outputs": [],
   "source": []
  }
 ],
 "metadata": {
  "kernelspec": {
   "display_name": "Python 3",
   "language": "python",
   "name": "python3"
  },
  "language_info": {
   "codemirror_mode": {
    "name": "ipython",
    "version": 3
   },
   "file_extension": ".py",
   "mimetype": "text/x-python",
   "name": "python",
   "nbconvert_exporter": "python",
   "pygments_lexer": "ipython3",
   "version": "3.8.3"
  }
 },
 "nbformat": 4,
 "nbformat_minor": 4
}
