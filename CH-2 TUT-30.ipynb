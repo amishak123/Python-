{
 "cells": [
  {
   "cell_type": "code",
   "execution_count": 1,
   "metadata": {},
   "outputs": [
    {
     "name": "stdout",
     "output_type": "stream",
     "text": [
      "23\n"
     ]
    }
   ],
   "source": [
    "Name = \"Amisha Vitthal Khedekar\"\n",
    "\n",
    "#lec() function\n",
    "print(len(Name))"
   ]
  },
  {
   "cell_type": "code",
   "execution_count": 2,
   "metadata": {},
   "outputs": [
    {
     "name": "stdout",
     "output_type": "stream",
     "text": [
      "amisha vitthal khedekar\n"
     ]
    }
   ],
   "source": [
    "Name = \"Amisha Vitthal Khedekar\"\n",
    "\n",
    "#Lower() method\n",
    "print(Name.lower())"
   ]
  },
  {
   "cell_type": "code",
   "execution_count": 3,
   "metadata": {},
   "outputs": [
    {
     "name": "stdout",
     "output_type": "stream",
     "text": [
      "AMISHA VITTHAL KHEDEKAR\n"
     ]
    }
   ],
   "source": [
    "Name = \"Amisha Vitthal Khedekar\"\n",
    "\n",
    "#upper() method\n",
    "print(Name.upper())"
   ]
  },
  {
   "cell_type": "code",
   "execution_count": 4,
   "metadata": {},
   "outputs": [
    {
     "name": "stdout",
     "output_type": "stream",
     "text": [
      "Amisha Vitthal Khedekar\n"
     ]
    }
   ],
   "source": [
    "Name = \"amisha vitthal khedekar\"\n",
    "\n",
    "#Title() method\n",
    "print(Name.title())"
   ]
  },
  {
   "cell_type": "code",
   "execution_count": 5,
   "metadata": {},
   "outputs": [
    {
     "name": "stdout",
     "output_type": "stream",
     "text": [
      "3\n"
     ]
    }
   ],
   "source": [
    "Name = \"Amisha Vitthal Khedekar\"\n",
    "\n",
    "#Count() method\n",
    "print(Name.count(\"h\"))"
   ]
  },
  {
   "cell_type": "code",
   "execution_count": null,
   "metadata": {},
   "outputs": [],
   "source": []
  }
 ],
 "metadata": {
  "kernelspec": {
   "display_name": "Python 3",
   "language": "python",
   "name": "python3"
  },
  "language_info": {
   "codemirror_mode": {
    "name": "ipython",
    "version": 3
   },
   "file_extension": ".py",
   "mimetype": "text/x-python",
   "name": "python",
   "nbconvert_exporter": "python",
   "pygments_lexer": "ipython3",
   "version": "3.8.3"
  }
 },
 "nbformat": 4,
 "nbformat_minor": 4
}
