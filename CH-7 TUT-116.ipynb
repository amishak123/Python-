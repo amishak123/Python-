{
 "cells": [
  {
   "cell_type": "code",
   "execution_count": 2,
   "metadata": {},
   "outputs": [
    {
     "name": "stdout",
     "output_type": "stream",
     "text": [
      "{'Name': 'Amisha', 'Age': 20, 'Fav cartoon': ['coco', 'Popeye'], 'Fav food': ['Chai', 'Banmaska'], 'Fav Song': ['Song1', 'Song2']}\n"
     ]
    }
   ],
   "source": [
    "#Add And Delete Data From Dictionary\n",
    "\n",
    "User_info ={\n",
    "    \"Name\" : \"Amisha\",\n",
    "    \"Age\"  :  20 ,\n",
    "    \"Fav cartoon\" : [\"coco\" , \"Popeye\"],\n",
    "    \"Fav food\" : [\"Chai\" , \"Banmaska\"],\n",
    "}\n",
    "\n",
    "# How to add data\n",
    "User_info[\"Fav Song\"] =[\"Song1\" , \"Song2\"]\n",
    "print(User_info)"
   ]
  },
  {
   "cell_type": "code",
   "execution_count": 11,
   "metadata": {},
   "outputs": [
    {
     "name": "stdout",
     "output_type": "stream",
     "text": [
      "{'Name': 'Amisha', 'Age': 20, 'Fav food': ['Chai', 'Banmaska']}\n",
      "<class 'dict'>\n"
     ]
    }
   ],
   "source": [
    "User_info ={\n",
    "    \"Name\" : \"Amisha\",\n",
    "    \"Age\"  :  20 ,\n",
    "    \"Fav cartoon\" : [\"coco\" , \"Popeye\"],\n",
    "    \"Fav food\" : [\"Chai\" , \"Banmaska\"],\n",
    "}\n",
    "\n",
    "# Pop method\n",
    "User_info.pop(\"Fav cartoon\")\n",
    "print(User_info)\n",
    "print(type(User_info))"
   ]
  },
  {
   "cell_type": "code",
   "execution_count": 5,
   "metadata": {},
   "outputs": [
    {
     "name": "stdout",
     "output_type": "stream",
     "text": [
      "popped item is ['coco', 'Popeye']\n",
      "{'Name': 'Amisha', 'Age': 20, 'Fav food': ['Chai', 'Banmaska']}\n"
     ]
    }
   ],
   "source": [
    "User_info ={\n",
    "    \"Name\" : \"Amisha\",\n",
    "    \"Age\"  :  20 ,\n",
    "    \"Fav cartoon\" : [\"coco\" , \"Popeye\"],\n",
    "    \"Fav food\" : [\"Chai\" , \"Banmaska\"],\n",
    "}\n",
    "\n",
    "# Pop method\n",
    "popped_item=User_info.pop(\"Fav cartoon\")\n",
    "print(f\"popped item is {popped_item}\")\n",
    "print(User_info)"
   ]
  },
  {
   "cell_type": "code",
   "execution_count": 10,
   "metadata": {},
   "outputs": [
    {
     "name": "stdout",
     "output_type": "stream",
     "text": [
      "{'Name': 'Amisha', 'Age': 20, 'Fav cartoon': ['coco', 'Popeye']}\n",
      "('Fav food', ['Chai', 'Banmaska'])\n",
      "<class 'tuple'>\n"
     ]
    }
   ],
   "source": [
    "# Popitem method\n",
    "\n",
    "User_info ={\n",
    "    \"Name\" : \"Amisha\",\n",
    "    \"Age\"  :  20 ,\n",
    "    \"Fav cartoon\" : [\"coco\" , \"Popeye\"],\n",
    "    \"Fav food\" : [\"Chai\" , \"Banmaska\"],\n",
    "}\n",
    "popped_item = User_info.popitem()\n",
    "print(User_info)\n",
    "print(popped_item )\n",
    "print(type(popped_item) )"
   ]
  },
  {
   "cell_type": "code",
   "execution_count": null,
   "metadata": {},
   "outputs": [],
   "source": []
  }
 ],
 "metadata": {
  "kernelspec": {
   "display_name": "Python 3",
   "language": "python",
   "name": "python3"
  },
  "language_info": {
   "codemirror_mode": {
    "name": "ipython",
    "version": 3
   },
   "file_extension": ".py",
   "mimetype": "text/x-python",
   "name": "python",
   "nbconvert_exporter": "python",
   "pygments_lexer": "ipython3",
   "version": "3.8.3"
  }
 },
 "nbformat": 4,
 "nbformat_minor": 4
}
