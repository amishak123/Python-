{
 "cells": [
  {
   "cell_type": "code",
   "execution_count": 1,
   "metadata": {},
   "outputs": [
    {
     "name": "stdout",
     "output_type": "stream",
     "text": [
      "{1: 1, 2: 4, 3: 9, 4: 16, 5: 25, 6: 36, 7: 49, 8: 64, 9: 81, 10: 100}\n"
     ]
    }
   ],
   "source": [
    "#Dictionary Comprehension\n",
    "\n",
    "#OUTPUT-----Square = {1:1 , 2:4 , 3:9}\n",
    "\n",
    "Square = {Num:Num**2 for Num in range(1,11)}\n",
    "print(Square)\n",
    "\n"
   ]
  },
  {
   "cell_type": "code",
   "execution_count": 6,
   "metadata": {},
   "outputs": [
    {
     "name": "stdout",
     "output_type": "stream",
     "text": [
      "Square of 1 is:1\n",
      "Square of 2 is:4\n",
      "Square of 3 is:9\n",
      "Square of 4 is:16\n",
      "Square of 5 is:25\n",
      "Square of 6 is:36\n",
      "Square of 7 is:49\n",
      "Square of 8 is:64\n",
      "Square of 9 is:81\n",
      "Square of 10 is:100\n"
     ]
    }
   ],
   "source": [
    "Square = {f\"Square of {Num} is\":Num**2 for Num in range(1,11)}\n",
    "\n",
    "for k,v in Square.items():\n",
    "    print(f\"{k}:{v}\")\n"
   ]
  },
  {
   "cell_type": "code",
   "execution_count": 9,
   "metadata": {},
   "outputs": [
    {
     "name": "stdout",
     "output_type": "stream",
     "text": [
      "{'A': 1, 'm': 1, 'i': 1, 's': 1, 'h': 2, 'a': 2, ' ': 1, 'K': 1, 'e': 2, 'd': 1, 'k': 1, 'r': 1}\n"
     ]
    }
   ],
   "source": [
    "S = \"Amisha Khedekar\"\n",
    "W_count = {char:S.count(char) for char in S}\n",
    "print(W_count)"
   ]
  },
  {
   "cell_type": "code",
   "execution_count": null,
   "metadata": {},
   "outputs": [],
   "source": []
  }
 ],
 "metadata": {
  "kernelspec": {
   "display_name": "Python 3",
   "language": "python",
   "name": "python3"
  },
  "language_info": {
   "codemirror_mode": {
    "name": "ipython",
    "version": 3
   },
   "file_extension": ".py",
   "mimetype": "text/x-python",
   "name": "python",
   "nbconvert_exporter": "python",
   "pygments_lexer": "ipython3",
   "version": "3.8.3"
  }
 },
 "nbformat": 4,
 "nbformat_minor": 4
}
