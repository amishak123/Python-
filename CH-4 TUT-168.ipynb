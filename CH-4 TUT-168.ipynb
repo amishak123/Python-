{
 "cells": [
  {
   "cell_type": "code",
   "execution_count": 3,
   "metadata": {},
   "outputs": [
    {
     "name": "stdout",
     "output_type": "stream",
     "text": [
      "8\n",
      "16\n"
     ]
    }
   ],
   "source": [
    "#Closures Practice (fist class function)\n",
    "#Function returning function (closure) practice\n",
    "\n",
    "def to_power(x):     # x=3\n",
    "    def cal_power(n):     # n=2\n",
    "        return n**x\n",
    "    return cal_power\n",
    "\n",
    "cube = to_power(3)\n",
    "print(cube(2))\n",
    "\n",
    "\n",
    "\n",
    "cube = to_power(2)\n",
    "print(cube(4))"
   ]
  },
  {
   "cell_type": "code",
   "execution_count": null,
   "metadata": {},
   "outputs": [],
   "source": []
  }
 ],
 "metadata": {
  "kernelspec": {
   "display_name": "Python 3",
   "language": "python",
   "name": "python3"
  },
  "language_info": {
   "codemirror_mode": {
    "name": "ipython",
    "version": 3
   },
   "file_extension": ".py",
   "mimetype": "text/x-python",
   "name": "python",
   "nbconvert_exporter": "python",
   "pygments_lexer": "ipython3",
   "version": "3.8.3"
  }
 },
 "nbformat": 4,
 "nbformat_minor": 4
}
