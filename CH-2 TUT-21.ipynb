{
 "cells": [
  {
   "cell_type": "code",
   "execution_count": 1,
   "metadata": {},
   "outputs": [
    {
     "name": "stdout",
     "output_type": "stream",
     "text": [
      "Enter Your Name and Age Amisha 24\n",
      "Amisha\n",
      "24\n"
     ]
    }
   ],
   "source": [
    "#Name = input(\"Enter Your Name :\")\n",
    "#Age = input(\"Enter your Age\")\n",
    "\n",
    "Name , Age = input(\"Enter Your Name and Age \").split()\n",
    "print(Name)\n",
    "print(Age)"
   ]
  },
  {
   "cell_type": "code",
   "execution_count": 3,
   "metadata": {},
   "outputs": [
    {
     "name": "stdout",
     "output_type": "stream",
     "text": [
      "Enter Your Name and Age Amisha,24\n",
      "Amisha\n",
      "24\n"
     ]
    }
   ],
   "source": [
    "Name , Age = input(\"Enter Your Name and Age \").split(\",\")\n",
    "print(Name)\n",
    "print(Age)"
   ]
  },
  {
   "cell_type": "code",
   "execution_count": null,
   "metadata": {},
   "outputs": [],
   "source": []
  }
 ],
 "metadata": {
  "kernelspec": {
   "display_name": "Python 3",
   "language": "python",
   "name": "python3"
  },
  "language_info": {
   "codemirror_mode": {
    "name": "ipython",
    "version": 3
   },
   "file_extension": ".py",
   "mimetype": "text/x-python",
   "name": "python",
   "nbconvert_exporter": "python",
   "pygments_lexer": "ipython3",
   "version": "3.8.3"
  }
 },
 "nbformat": 4,
 "nbformat_minor": 4
}
