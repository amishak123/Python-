{
 "cells": [
  {
   "cell_type": "code",
   "execution_count": 7,
   "metadata": {},
   "outputs": [
    {
     "name": "stdout",
     "output_type": "stream",
     "text": [
      "this is add fuction\n",
      "add\n"
     ]
    }
   ],
   "source": [
    "#Decorators Intro PART-3\n",
    "\n",
    "#Decoraters-enhance the functionality of other function\n",
    "from functools import wraps\n",
    "def decorator_function(any_function):\n",
    "    @wraps(any_function)\n",
    "    def wrapper_function():\n",
    "        ''' this is  wrapper  fuction'''\n",
    "        return print(\"This is awesome function\")\n",
    "        any_function()\n",
    "    return wrapper_function\n",
    "\n",
    "@decorator_function\n",
    "def add(a,b):\n",
    "    '''this is add fuction'''\n",
    "    return a+b\n",
    "\n",
    "\n",
    "print(add.__doc__)\n",
    "print(add.__name__)"
   ]
  },
  {
   "cell_type": "code",
   "execution_count": null,
   "metadata": {},
   "outputs": [],
   "source": []
  }
 ],
 "metadata": {
  "kernelspec": {
   "display_name": "Python 3",
   "language": "python",
   "name": "python3"
  },
  "language_info": {
   "codemirror_mode": {
    "name": "ipython",
    "version": 3
   },
   "file_extension": ".py",
   "mimetype": "text/x-python",
   "name": "python",
   "nbconvert_exporter": "python",
   "pygments_lexer": "ipython3",
   "version": "3.8.3"
  }
 },
 "nbformat": 4,
 "nbformat_minor": 4
}
