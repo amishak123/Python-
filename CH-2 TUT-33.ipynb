{
 "cells": [
  {
   "cell_type": "code",
   "execution_count": 9,
   "metadata": {},
   "outputs": [
    {
     "name": "stdout",
     "output_type": "stream",
     "text": [
      ".............   Amisha   .............\n",
      ".............Amisha   .............\n",
      ".............   Amisha.............\n",
      ".............Amisha.............\n"
     ]
    }
   ],
   "source": [
    "Name = \"   Amisha   \"\n",
    "dots = \".............\"\n",
    "\n",
    "#lstrip() method\n",
    "\n",
    "print(dots+Name + dots)\n",
    "\n",
    "print(dots+Name.lstrip()+dots)\n",
    "\n",
    "#rstrip() method\n",
    "\n",
    "print(dots+Name.rstrip()+dots)\n",
    "\n",
    "#strip() method\n",
    "\n",
    "print(dots+Name.strip()+dots)"
   ]
  },
  {
   "cell_type": "code",
   "execution_count": 10,
   "metadata": {},
   "outputs": [
    {
     "data": {
      "text/plain": [
       "'Amisha'"
      ]
     },
     "execution_count": 10,
     "metadata": {},
     "output_type": "execute_result"
    }
   ],
   "source": [
    "Name = \"   Ami    sha   \"\n",
    "Name.replace(\" \",\"\")"
   ]
  },
  {
   "cell_type": "code",
   "execution_count": null,
   "metadata": {},
   "outputs": [],
   "source": []
  }
 ],
 "metadata": {
  "kernelspec": {
   "display_name": "Python 3",
   "language": "python",
   "name": "python3"
  },
  "language_info": {
   "codemirror_mode": {
    "name": "ipython",
    "version": 3
   },
   "file_extension": ".py",
   "mimetype": "text/x-python",
   "name": "python",
   "nbconvert_exporter": "python",
   "pygments_lexer": "ipython3",
   "version": "3.8.3"
  }
 },
 "nbformat": 4,
 "nbformat_minor": 4
}
