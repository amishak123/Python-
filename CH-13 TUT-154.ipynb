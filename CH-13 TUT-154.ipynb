{
 "cells": [
  {
   "cell_type": "code",
   "execution_count": 2,
   "metadata": {},
   "outputs": [
    {
     "name": "stdout",
     "output_type": "stream",
     "text": [
      "<filter object at 0x000002860D3CE2E0>\n"
     ]
    }
   ],
   "source": [
    "#Filter()function\n",
    "\n",
    "def even(a):\n",
    "    return a%2==0\n",
    "\n",
    "Number = [1,2,3,4,5,6,7,8,9,10]\n",
    "print(filter(even,Number))"
   ]
  },
  {
   "cell_type": "code",
   "execution_count": 3,
   "metadata": {},
   "outputs": [
    {
     "name": "stdout",
     "output_type": "stream",
     "text": [
      "(2, 4, 6, 8, 10)\n"
     ]
    }
   ],
   "source": [
    "def even(a):\n",
    "    return a%2==0\n",
    "\n",
    "Number = [1,2,3,4,5,6,7,8,9,10]\n",
    "EVEN = tuple(filter(even,Number))\n",
    "print(EVEN)"
   ]
  },
  {
   "cell_type": "code",
   "execution_count": 5,
   "metadata": {},
   "outputs": [
    {
     "name": "stdout",
     "output_type": "stream",
     "text": [
      "(2, 4, 6, 8, 10)\n"
     ]
    }
   ],
   "source": [
    "Number = [1,2,3,4,5,6,7,8,9,10]\n",
    "EVEN = tuple(filter(lambda a : a%2==0 ,Number))\n",
    "print(EVEN)"
   ]
  },
  {
   "cell_type": "code",
   "execution_count": 7,
   "metadata": {},
   "outputs": [
    {
     "name": "stdout",
     "output_type": "stream",
     "text": [
      "<filter object at 0x000002860D3DA4C0>\n",
      "2\n",
      "4\n",
      "6\n",
      "8\n",
      "10\n"
     ]
    }
   ],
   "source": [
    "Number = [1,2,3,4,5,6,7,8,9,10]\n",
    "EVEN = filter(lambda a : a%2==0 ,Number)\n",
    "print(EVEN)\n",
    "\n",
    "for i in EVEN:\n",
    "    print(i)"
   ]
  },
  {
   "cell_type": "code",
   "execution_count": 9,
   "metadata": {},
   "outputs": [
    {
     "name": "stdout",
     "output_type": "stream",
     "text": [
      "[2, 4, 6, 8, 10]\n"
     ]
    }
   ],
   "source": [
    "new_even = [i for i in Number if i%2==0]\n",
    "print(new_even)"
   ]
  },
  {
   "cell_type": "code",
   "execution_count": null,
   "metadata": {},
   "outputs": [],
   "source": []
  }
 ],
 "metadata": {
  "kernelspec": {
   "display_name": "Python 3",
   "language": "python",
   "name": "python3"
  },
  "language_info": {
   "codemirror_mode": {
    "name": "ipython",
    "version": 3
   },
   "file_extension": ".py",
   "mimetype": "text/x-python",
   "name": "python",
   "nbconvert_exporter": "python",
   "pygments_lexer": "ipython3",
   "version": "3.8.3"
  }
 },
 "nbformat": 4,
 "nbformat_minor": 4
}
