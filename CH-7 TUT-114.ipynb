{
 "cells": [
  {
   "cell_type": "code",
   "execution_count": 2,
   "metadata": {},
   "outputs": [
    {
     "name": "stdout",
     "output_type": "stream",
     "text": [
      "{'name': 'Amisha', 'Age': 24}\n",
      "<class 'dict'>\n"
     ]
    }
   ],
   "source": [
    "# Dictionaries intro\n",
    "\n",
    "# Q - Why we use dictionary?\n",
    "# A - Beacouse of limitations ofnlist , lists are not enough to represent\n",
    "# Real Data\n",
    "\n",
    "\n",
    "# Example\n",
    "User = [\"Amisha\" , \"20\" ,[\"coco\" , \"Popeye\"] , [\"Chai\" , \"Banmaska\"]]\n",
    "#print(User[0])   ........Access\n",
    "# This list contains user name , age ,fav cartoon , fav food\n",
    "# You can do this but this is not a good way to do this.\n",
    "\n",
    "\n",
    "# Q - What are dictionary?\n",
    "# A - Unordered collections of data in key : value pair\n",
    "\n",
    "\n",
    "# How to creat dictionary...\n",
    "User = {\"name\":\"Amisha\" , \"Age\":24}\n",
    "print(User)\n",
    "print(type(User))\n",
    "\n"
   ]
  },
  {
   "cell_type": "code",
   "execution_count": 5,
   "metadata": {},
   "outputs": [
    {
     "name": "stdout",
     "output_type": "stream",
     "text": [
      "{'Name': 'Amisha', 'Age': 20}\n",
      "<class 'dict'>\n"
     ]
    }
   ],
   "source": [
    "#Second method to create dictionary\n",
    "User1 = dict(Name = \"Amisha\",Age = 20)\n",
    "print(User1)\n",
    "print(type(User1))\n"
   ]
  },
  {
   "cell_type": "code",
   "execution_count": 8,
   "metadata": {},
   "outputs": [
    {
     "name": "stdout",
     "output_type": "stream",
     "text": [
      "Amisha\n",
      "20\n"
     ]
    }
   ],
   "source": [
    "#How to access data from dictionary\n",
    "User2 = dict(Name = \"Amisha\",Age = 20)\n",
    "print(User2[\"Name\"])\n",
    "print(User2[\"Age\"])"
   ]
  },
  {
   "cell_type": "code",
   "execution_count": 10,
   "metadata": {},
   "outputs": [
    {
     "name": "stdout",
     "output_type": "stream",
     "text": [
      "{'Name': 'Amisha', 'Age': 20, 'Fav cartoon': ['coco', 'Popeye'], 'Fav food': ['Chai', 'Banmaska']}\n",
      "['coco', 'Popeye']\n"
     ]
    }
   ],
   "source": [
    "# Q - Which type od data a dictonary can store?\n",
    "# A - Anythig (Number , string , list ,dictionary)\n",
    "\n",
    "User_info ={\n",
    "    \"Name\" : \"Amisha\",\n",
    "    \"Age\"  :  20 ,\n",
    "    \"Fav cartoon\" : [\"coco\" , \"Popeye\"],\n",
    "    \"Fav food\" : [\"Chai\" , \"Banmaska\"],\n",
    "}\n",
    "print(User_info)\n",
    "\n",
    "\n",
    "print(User_info[\"Fav cartoon\"])"
   ]
  },
  {
   "cell_type": "code",
   "execution_count": 12,
   "metadata": {},
   "outputs": [
    {
     "name": "stdout",
     "output_type": "stream",
     "text": [
      "{'Name': 'Amisha', 'Age': 20, 'Fav_food': 'Pizza'}\n"
     ]
    }
   ],
   "source": [
    "# How to add data to rmpty dictionary\n",
    "User_info2 ={}\n",
    "User_info2[\"Name\"] = \"Amisha\"\n",
    "User_info2[\"Age\"] = 20\n",
    "User_info2[\"Fav_food\"] = \"Pizza\"\n",
    "print(User_info2)"
   ]
  },
  {
   "cell_type": "code",
   "execution_count": null,
   "metadata": {},
   "outputs": [],
   "source": []
  }
 ],
 "metadata": {
  "kernelspec": {
   "display_name": "Python 3",
   "language": "python",
   "name": "python3"
  },
  "language_info": {
   "codemirror_mode": {
    "name": "ipython",
    "version": 3
   },
   "file_extension": ".py",
   "mimetype": "text/x-python",
   "name": "python",
   "nbconvert_exporter": "python",
   "pygments_lexer": "ipython3",
   "version": "3.8.3"
  }
 },
 "nbformat": 4,
 "nbformat_minor": 4
}
