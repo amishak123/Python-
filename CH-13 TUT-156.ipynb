{
 "cells": [
  {
   "cell_type": "code",
   "execution_count": 1,
   "metadata": {},
   "outputs": [
    {
     "name": "stdout",
     "output_type": "stream",
     "text": [
      "<zip object at 0x0000019FF528C300>\n"
     ]
    }
   ],
   "source": [
    "#Zip function part-1\n",
    "\n",
    "User_id = ['User1' , 'User2' ,'User3']\n",
    "Name =['Amisha' , 'Bhakti' , 'Vidya']\n",
    "print(zip(User_id , Name))"
   ]
  },
  {
   "cell_type": "code",
   "execution_count": 2,
   "metadata": {},
   "outputs": [
    {
     "name": "stdout",
     "output_type": "stream",
     "text": [
      "[('User1', 'Amisha'), ('User2', 'Bhakti'), ('User3', 'Vidya')]\n"
     ]
    }
   ],
   "source": [
    "User_id = ['User1' , 'User2' ,'User3']\n",
    "Name =['Amisha' , 'Bhakti' , 'Vidya']\n",
    "print(list(zip(User_id , Name)))"
   ]
  },
  {
   "cell_type": "code",
   "execution_count": 3,
   "metadata": {},
   "outputs": [
    {
     "name": "stdout",
     "output_type": "stream",
     "text": [
      "(('User1', 'Amisha'), ('User2', 'Bhakti'), ('User3', 'Vidya'))\n"
     ]
    }
   ],
   "source": [
    "User_id = ['User1' , 'User2' ,'User3']\n",
    "Name =['Amisha' , 'Bhakti' , 'Vidya']\n",
    "print(tuple(zip(User_id , Name)))"
   ]
  },
  {
   "cell_type": "code",
   "execution_count": 4,
   "metadata": {},
   "outputs": [
    {
     "name": "stdout",
     "output_type": "stream",
     "text": [
      "[('User1', 'Amisha'), ('User2', 'Bhakti')]\n"
     ]
    }
   ],
   "source": [
    "User_id = ['User1' , 'User2' ]\n",
    "Name =['Amisha' , 'Bhakti' , 'Vidya']\n",
    "print(list(zip(User_id , Name)))"
   ]
  },
  {
   "cell_type": "code",
   "execution_count": 6,
   "metadata": {},
   "outputs": [
    {
     "name": "stdout",
     "output_type": "stream",
     "text": [
      "{'a': 1, 'b': 2}\n"
     ]
    }
   ],
   "source": [
    "Example = [('a', 1) , ('b' , 2)]\n",
    "print(dict(Example))"
   ]
  },
  {
   "cell_type": "code",
   "execution_count": 7,
   "metadata": {},
   "outputs": [
    {
     "name": "stdout",
     "output_type": "stream",
     "text": [
      "{'User1': 'Amisha', 'User2': 'Bhakti', 'User3': 'Vidya'}\n"
     ]
    }
   ],
   "source": [
    "User_id = ['User1' , 'User2' ,'User3']\n",
    "Name =['Amisha' , 'Bhakti' , 'Vidya']\n",
    "print(dict(zip(User_id , Name)))"
   ]
  },
  {
   "cell_type": "code",
   "execution_count": 8,
   "metadata": {},
   "outputs": [
    {
     "name": "stdout",
     "output_type": "stream",
     "text": [
      "(('User1', 'Amisha', 'khedekar'), ('User2', 'Bhakti', 'khedekar'), ('User3', 'Vidya', 'khedekar'))\n"
     ]
    }
   ],
   "source": [
    "User_id = ['User1' , 'User2' ,'User3']\n",
    "Name =['Amisha' , 'Bhakti' , 'Vidya']\n",
    "Last_name = ['khedekar', 'khedekar', 'khedekar']\n",
    "print(tuple(zip(User_id , Name , Last_name)))"
   ]
  },
  {
   "cell_type": "code",
   "execution_count": 9,
   "metadata": {},
   "outputs": [
    {
     "ename": "ValueError",
     "evalue": "dictionary update sequence element #0 has length 3; 2 is required",
     "output_type": "error",
     "traceback": [
      "\u001b[1;31m---------------------------------------------------------------------------\u001b[0m",
      "\u001b[1;31mValueError\u001b[0m                                Traceback (most recent call last)",
      "\u001b[1;32m<ipython-input-9-8421d8c77627>\u001b[0m in \u001b[0;36m<module>\u001b[1;34m\u001b[0m\n\u001b[0;32m      2\u001b[0m \u001b[0mName\u001b[0m \u001b[1;33m=\u001b[0m\u001b[1;33m[\u001b[0m\u001b[1;34m'Amisha'\u001b[0m \u001b[1;33m,\u001b[0m \u001b[1;34m'Bhakti'\u001b[0m \u001b[1;33m,\u001b[0m \u001b[1;34m'Vidya'\u001b[0m\u001b[1;33m]\u001b[0m\u001b[1;33m\u001b[0m\u001b[1;33m\u001b[0m\u001b[0m\n\u001b[0;32m      3\u001b[0m \u001b[0mLast_name\u001b[0m \u001b[1;33m=\u001b[0m \u001b[1;33m[\u001b[0m\u001b[1;34m'khedekar'\u001b[0m\u001b[1;33m,\u001b[0m \u001b[1;34m'khedekar'\u001b[0m\u001b[1;33m,\u001b[0m \u001b[1;34m'khedekar'\u001b[0m\u001b[1;33m]\u001b[0m\u001b[1;33m\u001b[0m\u001b[1;33m\u001b[0m\u001b[0m\n\u001b[1;32m----> 4\u001b[1;33m \u001b[0mprint\u001b[0m\u001b[1;33m(\u001b[0m\u001b[0mdict\u001b[0m\u001b[1;33m(\u001b[0m\u001b[0mzip\u001b[0m\u001b[1;33m(\u001b[0m\u001b[0mUser_id\u001b[0m \u001b[1;33m,\u001b[0m \u001b[0mName\u001b[0m \u001b[1;33m,\u001b[0m \u001b[0mLast_name\u001b[0m\u001b[1;33m)\u001b[0m\u001b[1;33m)\u001b[0m\u001b[1;33m)\u001b[0m\u001b[1;33m\u001b[0m\u001b[1;33m\u001b[0m\u001b[0m\n\u001b[0m",
      "\u001b[1;31mValueError\u001b[0m: dictionary update sequence element #0 has length 3; 2 is required"
     ]
    }
   ],
   "source": [
    "User_id = ['User1' , 'User2' ,'User3']\n",
    "Name =['Amisha' , 'Bhakti' , 'Vidya']\n",
    "Last_name = ['khedekar', 'khedekar', 'khedekar']\n",
    "print(dict(zip(User_id , Name , Last_name)))"
   ]
  },
  {
   "cell_type": "code",
   "execution_count": null,
   "metadata": {},
   "outputs": [],
   "source": []
  }
 ],
 "metadata": {
  "kernelspec": {
   "display_name": "Python 3",
   "language": "python",
   "name": "python3"
  },
  "language_info": {
   "codemirror_mode": {
    "name": "ipython",
    "version": 3
   },
   "file_extension": ".py",
   "mimetype": "text/x-python",
   "name": "python",
   "nbconvert_exporter": "python",
   "pygments_lexer": "ipython3",
   "version": "3.8.3"
  }
 },
 "nbformat": 4,
 "nbformat_minor": 4
}
