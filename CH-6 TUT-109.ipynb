{
 "cells": [
  {
   "cell_type": "code",
   "execution_count": null,
   "metadata": {},
   "outputs": [],
   "source": [
    "#Tuple data structure\n",
    "#Tule can store any data type *\n",
    "#Most importantant tuple are immitable,once tuple is created you can't update\n",
    "#Data inside tuple *\n",
    "\n",
    "#EXAMPLE = (\"one\" , \"two\" , \"three\")\n",
    "#NO Append , NO Insert , NO Remove\n",
    "#Day = (\"monday\" , \"tuesday\")\n",
    "#Tuple are faster then lists\n",
    "\n",
    "#METHOD (we can use)\n",
    "#count index\n",
    "#len function\n",
    "#slicing\n",
    "\n"
   ]
  }
 ],
 "metadata": {
  "kernelspec": {
   "display_name": "Python 3",
   "language": "python",
   "name": "python3"
  },
  "language_info": {
   "codemirror_mode": {
    "name": "ipython",
    "version": 3
   },
   "file_extension": ".py",
   "mimetype": "text/x-python",
   "name": "python",
   "nbconvert_exporter": "python",
   "pygments_lexer": "ipython3",
   "version": "3.8.3"
  }
 },
 "nbformat": 4,
 "nbformat_minor": 4
}
