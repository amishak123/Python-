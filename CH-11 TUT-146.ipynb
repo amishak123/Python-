{
 "cells": [
  {
   "cell_type": "code",
   "execution_count": 13,
   "metadata": {},
   "outputs": [
    {
     "name": "stdout",
     "output_type": "stream",
     "text": [
      "amisha\n",
      "(1, 2, 3)\n",
      "unkown\n",
      "{'a': 1, 'b': 2}\n"
     ]
    }
   ],
   "source": [
    "#Function with all type of parameters\n",
    "\n",
    "#function with all parameters\n",
    "#very important to understand\n",
    "\n",
    "#PADK\n",
    "\n",
    "#Parameters\n",
    "#args\n",
    "#default parametrs\n",
    "#**kwargs\n",
    "\n",
    "def func(name,*args,last_name=\"unkown\",**kwarga):\n",
    "    print(name)\n",
    "    print(args)\n",
    "    print(last_name)\n",
    "    print(kwarga)\n",
    "    \n",
    "\n",
    "func('amisha' , 1,2,3, a=1, b=2)\n",
    "         "
   ]
  },
  {
   "cell_type": "code",
   "execution_count": null,
   "metadata": {},
   "outputs": [],
   "source": []
  }
 ],
 "metadata": {
  "kernelspec": {
   "display_name": "Python 3",
   "language": "python",
   "name": "python3"
  },
  "language_info": {
   "codemirror_mode": {
    "name": "ipython",
    "version": 3
   },
   "file_extension": ".py",
   "mimetype": "text/x-python",
   "name": "python",
   "nbconvert_exporter": "python",
   "pygments_lexer": "ipython3",
   "version": "3.8.3"
  }
 },
 "nbformat": 4,
 "nbformat_minor": 4
}
