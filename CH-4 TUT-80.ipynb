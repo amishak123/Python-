{
 "cells": [
  {
   "cell_type": "code",
   "execution_count": 3,
   "metadata": {},
   "outputs": [
    {
     "name": "stdout",
     "output_type": "stream",
     "text": [
      "Your first name is Amisha\n",
      "Ypur last name is Khedekar\n",
      "Your age is 20\n",
      "None\n"
     ]
    }
   ],
   "source": [
    "#Default parameter\n",
    "\n",
    "def user_info(first_name ,last_name ,age):\n",
    "    print(f\"Your first name is {first_name}\")\n",
    "    print(f\"Ypur last name is {last_name}\")\n",
    "    print(f\"Your age is {age}\")\n",
    "\n",
    "print(user_info(\"Amisha\",\"Khedekar\",20))"
   ]
  },
  {
   "cell_type": "code",
   "execution_count": 6,
   "metadata": {},
   "outputs": [
    {
     "ename": "TypeError",
     "evalue": "user_info() missing 1 required positional argument: 'age'",
     "output_type": "error",
     "traceback": [
      "\u001b[1;31m---------------------------------------------------------------------------\u001b[0m",
      "\u001b[1;31mTypeError\u001b[0m                                 Traceback (most recent call last)",
      "\u001b[1;32m<ipython-input-6-e5f409630a72>\u001b[0m in \u001b[0;36m<module>\u001b[1;34m\u001b[0m\n\u001b[0;32m      4\u001b[0m     \u001b[0mprint\u001b[0m\u001b[1;33m(\u001b[0m\u001b[1;34mf\"Your age is {age}\"\u001b[0m\u001b[1;33m)\u001b[0m\u001b[1;33m\u001b[0m\u001b[1;33m\u001b[0m\u001b[0m\n\u001b[0;32m      5\u001b[0m \u001b[1;33m\u001b[0m\u001b[0m\n\u001b[1;32m----> 6\u001b[1;33m \u001b[0mprint\u001b[0m\u001b[1;33m(\u001b[0m\u001b[0muser_info\u001b[0m\u001b[1;33m(\u001b[0m\u001b[1;34m\"Amisha\"\u001b[0m\u001b[1;33m,\u001b[0m\u001b[1;34m\"Khedekar\"\u001b[0m\u001b[1;33m)\u001b[0m\u001b[1;33m)\u001b[0m\u001b[1;33m\u001b[0m\u001b[1;33m\u001b[0m\u001b[0m\n\u001b[0m",
      "\u001b[1;31mTypeError\u001b[0m: user_info() missing 1 required positional argument: 'age'"
     ]
    }
   ],
   "source": [
    "def user_info(first_name ,last_name ,age):\n",
    "    print(f\"Your first name is {first_name}\")\n",
    "    print(f\"Ypur last name is {last_name}\")\n",
    "    print(f\"Your age is {age}\")\n",
    "\n",
    "print(user_info(\"Amisha\",\"Khedekar\"))"
   ]
  },
  {
   "cell_type": "code",
   "execution_count": 7,
   "metadata": {},
   "outputs": [
    {
     "name": "stdout",
     "output_type": "stream",
     "text": [
      "Your first name is Amisha\n",
      "Ypur last name is Khedekar\n",
      "Your age is 20\n",
      "None\n"
     ]
    }
   ],
   "source": [
    "def user_info(first_name ,last_name ,age=20):\n",
    "    print(f\"Your first name is {first_name}\")\n",
    "    print(f\"Ypur last name is {last_name}\")\n",
    "    print(f\"Your age is {age}\")\n",
    "\n",
    "print(user_info(\"Amisha\",\"Khedekar\"))"
   ]
  },
  {
   "cell_type": "code",
   "execution_count": 9,
   "metadata": {},
   "outputs": [
    {
     "name": "stdout",
     "output_type": "stream",
     "text": [
      "Your first name is Amisha\n",
      "Ypur last name is Unkown\n",
      "Your age is None\n",
      "None\n"
     ]
    }
   ],
   "source": [
    "def user_info(first_name ,last_name=\"Unkown\",age=None):\n",
    "    print(f\"Your first name is {first_name}\")\n",
    "    print(f\"Ypur last name is {last_name}\")\n",
    "    print(f\"Your age is {age}\")\n",
    "\n",
    "print(user_info(\"Amisha\"))"
   ]
  },
  {
   "cell_type": "code",
   "execution_count": 10,
   "metadata": {},
   "outputs": [
    {
     "ename": "SyntaxError",
     "evalue": "non-default argument follows default argument (<ipython-input-10-547157811107>, line 1)",
     "output_type": "error",
     "traceback": [
      "\u001b[1;36m  File \u001b[1;32m\"<ipython-input-10-547157811107>\"\u001b[1;36m, line \u001b[1;32m1\u001b[0m\n\u001b[1;33m    def user_info(first_name ,last_name=\"Unkown\" ,age):\u001b[0m\n\u001b[1;37m                  ^\u001b[0m\n\u001b[1;31mSyntaxError\u001b[0m\u001b[1;31m:\u001b[0m non-default argument follows default argument\n"
     ]
    }
   ],
   "source": [
    "def user_info(first_name ,last_name=\"Unkown\" ,age):\n",
    "    print(f\"Your first name is {first_name}\")\n",
    "    print(f\"Ypur last name is {last_name}\")\n",
    "    print(f\"Your age is {age}\")\n",
    "\n",
    "print(user_info(\"Amisha\",20))"
   ]
  },
  {
   "cell_type": "code",
   "execution_count": 11,
   "metadata": {},
   "outputs": [
    {
     "ename": "SyntaxError",
     "evalue": "non-default argument follows default argument (<ipython-input-11-d5c61efb1757>, line 1)",
     "output_type": "error",
     "traceback": [
      "\u001b[1;36m  File \u001b[1;32m\"<ipython-input-11-d5c61efb1757>\"\u001b[1;36m, line \u001b[1;32m1\u001b[0m\n\u001b[1;33m    def user_info(first_name=\"Unkown\" ,last_name,age=None):\u001b[0m\n\u001b[1;37m                  ^\u001b[0m\n\u001b[1;31mSyntaxError\u001b[0m\u001b[1;31m:\u001b[0m non-default argument follows default argument\n"
     ]
    }
   ],
   "source": [
    "def user_info(first_name=\"Unkown\" ,last_name,age=None):\n",
    "    print(f\"Your first name is {first_name}\")\n",
    "    print(f\"Ypur last name is {last_name}\")\n",
    "    print(f\"Your age is {age}\")\n",
    "\n",
    "print(user_info(\"Khdekar\"))"
   ]
  },
  {
   "cell_type": "code",
   "execution_count": null,
   "metadata": {},
   "outputs": [],
   "source": []
  }
 ],
 "metadata": {
  "kernelspec": {
   "display_name": "Python 3",
   "language": "python",
   "name": "python3"
  },
  "language_info": {
   "codemirror_mode": {
    "name": "ipython",
    "version": 3
   },
   "file_extension": ".py",
   "mimetype": "text/x-python",
   "name": "python",
   "nbconvert_exporter": "python",
   "pygments_lexer": "ipython3",
   "version": "3.8.3"
  }
 },
 "nbformat": 4,
 "nbformat_minor": 4
}
