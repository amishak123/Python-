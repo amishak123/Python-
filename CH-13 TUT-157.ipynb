{
 "cells": [
  {
   "cell_type": "code",
   "execution_count": 1,
   "metadata": {},
   "outputs": [
    {
     "name": "stdout",
     "output_type": "stream",
     "text": [
      "[(1, 3, 5, 7), (2, 4, 6, 8)]\n"
     ]
    }
   ],
   "source": [
    "# Zip function part 2 \n",
    "# * operator with zip\n",
    "\n",
    "\n",
    "L = [(1,2),(3,4),(5,6),(7,8)]\n",
    "print(list(zip(*L)))"
   ]
  },
  {
   "cell_type": "code",
   "execution_count": 2,
   "metadata": {},
   "outputs": [
    {
     "name": "stdout",
     "output_type": "stream",
     "text": [
      "(1, 3, 5, 7)\n",
      "(2, 4, 6, 8)\n"
     ]
    }
   ],
   "source": [
    "L = [(1,2),(3,4),(5,6),(7,8)]\n",
    "L1 , L2 = list(zip(*L))\n",
    "print(L1)\n",
    "print(L2)"
   ]
  },
  {
   "cell_type": "code",
   "execution_count": 3,
   "metadata": {},
   "outputs": [
    {
     "name": "stdout",
     "output_type": "stream",
     "text": [
      "[1, 3, 5, 7]\n",
      "[2, 4, 6, 8]\n"
     ]
    }
   ],
   "source": [
    "L = [(1,2),(3,4),(5,6),(7,8)]\n",
    "L1 , L2 = list(zip(*L))\n",
    "print(list(L1))\n",
    "print(list(L2))"
   ]
  },
  {
   "cell_type": "code",
   "execution_count": 5,
   "metadata": {},
   "outputs": [
    {
     "name": "stdout",
     "output_type": "stream",
     "text": [
      "[2, 30, 6, 70]\n"
     ]
    }
   ],
   "source": [
    "L1=[1, 30, 5, 70]\n",
    "L2=[2, 4, 6, 8]\n",
    "new_list=[]\n",
    "for i in zip(L1,L2):\n",
    "    new_list.append(max(i))\n",
    "    \n",
    "    \n",
    "print(new_list)"
   ]
  },
  {
   "cell_type": "code",
   "execution_count": null,
   "metadata": {},
   "outputs": [],
   "source": []
  }
 ],
 "metadata": {
  "kernelspec": {
   "display_name": "Python 3",
   "language": "python",
   "name": "python3"
  },
  "language_info": {
   "codemirror_mode": {
    "name": "ipython",
    "version": 3
   },
   "file_extension": ".py",
   "mimetype": "text/x-python",
   "name": "python",
   "nbconvert_exporter": "python",
   "pygments_lexer": "ipython3",
   "version": "3.8.3"
  }
 },
 "nbformat": 4,
 "nbformat_minor": 4
}
