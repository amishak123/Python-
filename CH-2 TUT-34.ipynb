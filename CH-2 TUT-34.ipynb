{
 "cells": [
  {
   "cell_type": "code",
   "execution_count": 3,
   "metadata": {},
   "outputs": [
    {
     "name": "stdout",
     "output_type": "stream",
     "text": [
      "She_is_beautiful_and_She_is_good_dancer\n"
     ]
    }
   ],
   "source": [
    "String = \"She is beautiful and She is good dancer\"\n",
    "\n",
    "#replace() method\n",
    "\n",
    "print(String.replace(\" \",\"_\"))"
   ]
  },
  {
   "cell_type": "code",
   "execution_count": 4,
   "metadata": {},
   "outputs": [
    {
     "name": "stdout",
     "output_type": "stream",
     "text": [
      "She was beautiful and She was good dancer\n"
     ]
    }
   ],
   "source": [
    "String = \"She is beautiful and She is good dancer\"\n",
    "\n",
    "print(String.replace(\"is\",\"was\"))"
   ]
  },
  {
   "cell_type": "code",
   "execution_count": 5,
   "metadata": {},
   "outputs": [
    {
     "name": "stdout",
     "output_type": "stream",
     "text": [
      "She was beautiful and She is good dancer\n"
     ]
    }
   ],
   "source": [
    "String = \"She is beautiful and She is good dancer\"\n",
    "\n",
    "print(String.replace(\"is\",\"was\",1))"
   ]
  },
  {
   "cell_type": "code",
   "execution_count": 6,
   "metadata": {},
   "outputs": [
    {
     "name": "stdout",
     "output_type": "stream",
     "text": [
      "4\n"
     ]
    }
   ],
   "source": [
    "String = \"She is beautiful and She is good dancer\"\n",
    "\n",
    "#find() method\n",
    "\n",
    "print(String.find(\"is\"))"
   ]
  },
  {
   "cell_type": "code",
   "execution_count": 4,
   "metadata": {},
   "outputs": [
    {
     "name": "stdout",
     "output_type": "stream",
     "text": [
      "25\n"
     ]
    }
   ],
   "source": [
    "String = \"She is beautiful and She is good dancer\"\n",
    "\n",
    "print(String.find(\"is\",5))"
   ]
  },
  {
   "cell_type": "code",
   "execution_count": 10,
   "metadata": {},
   "outputs": [
    {
     "name": "stdout",
     "output_type": "stream",
     "text": [
      "25\n"
     ]
    }
   ],
   "source": [
    "String = \"She is beautiful and She is good dancer\"\n",
    "\n",
    "is_pos1 = String.find(\"is\")\n",
    "is_pos2 = String.find(\"is\" , is_pos1+1)\n",
    "print(is_pos2)"
   ]
  }
 ],
 "metadata": {
  "kernelspec": {
   "display_name": "Python 3",
   "language": "python",
   "name": "python3"
  },
  "language_info": {
   "codemirror_mode": {
    "name": "ipython",
    "version": 3
   },
   "file_extension": ".py",
   "mimetype": "text/x-python",
   "name": "python",
   "nbconvert_exporter": "python",
   "pygments_lexer": "ipython3",
   "version": "3.8.3"
  }
 },
 "nbformat": 4,
 "nbformat_minor": 4
}
