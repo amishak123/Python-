{
 "cells": [
  {
   "cell_type": "code",
   "execution_count": 5,
   "metadata": {},
   "outputs": [
    {
     "data": {
      "text/plain": [
       "2"
      ]
     },
     "execution_count": 5,
     "metadata": {},
     "output_type": "execute_result"
    }
   ],
   "source": [
    "#count\n",
    "#sort method\n",
    "#sorted function\n",
    "#reverse\n",
    "#clear\n",
    "#copy\n",
    "\n",
    "fruits=[\"orange\",\"kiwi\",\"mango\",\"pear\",\"kiwi\",\"lichi\",\"banana\"]\n",
    "fruits.count(\"kiwi\")\n"
   ]
  },
  {
   "cell_type": "code",
   "execution_count": 7,
   "metadata": {},
   "outputs": [
    {
     "name": "stdout",
     "output_type": "stream",
     "text": [
      "['banana', 'kiwi', 'kiwi', 'lichi', 'mango', 'orange', 'pear']\n",
      "[0, 1, 2, 3, 4, 5, 6, 7, 8, 9]\n"
     ]
    }
   ],
   "source": [
    "fruits=[\"orange\",\"kiwi\",\"mango\",\"pear\",\"kiwi\",\"lichi\",\"banana\"]\n",
    "fruits.sort()\n",
    "print(fruits)\n",
    "\n",
    "NUM=[0,5,7,6,8,1,2,4,9,3]\n",
    "NUM.sort()\n",
    "print(NUM)"
   ]
  },
  {
   "cell_type": "code",
   "execution_count": 11,
   "metadata": {},
   "outputs": [
    {
     "name": "stdout",
     "output_type": "stream",
     "text": [
      "[0, 1, 2, 3, 4, 5, 6, 7, 8, 9]\n",
      "[0, 5, 7, 6, 8, 1, 2, 4, 9, 3]\n"
     ]
    }
   ],
   "source": [
    "NUM=[0,5,7,6,8,1,2,4,9,3]\n",
    "print(sorted(NUM))\n",
    "print(NUM)"
   ]
  },
  {
   "cell_type": "code",
   "execution_count": 12,
   "metadata": {},
   "outputs": [
    {
     "name": "stdout",
     "output_type": "stream",
     "text": [
      "[]\n"
     ]
    }
   ],
   "source": [
    "fruits=[\"orange\",\"kiwi\",\"mango\",\"pear\",\"kiwi\",\"lichi\",\"banana\"]\n",
    "fruits.clear()\n",
    "print(fruits)"
   ]
  },
  {
   "cell_type": "code",
   "execution_count": 13,
   "metadata": {},
   "outputs": [
    {
     "name": "stdout",
     "output_type": "stream",
     "text": [
      "['orange', 'kiwi', 'mango', 'pear', 'kiwi', 'lichi', 'banana']\n"
     ]
    }
   ],
   "source": [
    "fruits=[\"orange\",\"kiwi\",\"mango\",\"pear\",\"kiwi\",\"lichi\",\"banana\"]\n",
    "fruits_copy=fruits.copy()\n",
    "print(fruits_copy)"
   ]
  },
  {
   "cell_type": "code",
   "execution_count": null,
   "metadata": {},
   "outputs": [],
   "source": []
  }
 ],
 "metadata": {
  "kernelspec": {
   "display_name": "Python 3",
   "language": "python",
   "name": "python3"
  },
  "language_info": {
   "codemirror_mode": {
    "name": "ipython",
    "version": 3
   },
   "file_extension": ".py",
   "mimetype": "text/x-python",
   "name": "python",
   "nbconvert_exporter": "python",
   "pygments_lexer": "ipython3",
   "version": "3.8.3"
  }
 },
 "nbformat": 4,
 "nbformat_minor": 4
}
