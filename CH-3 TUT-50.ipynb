{
 "cells": [
  {
   "cell_type": "code",
   "execution_count": 1,
   "metadata": {},
   "outputs": [
    {
     "name": "stdout",
     "output_type": "stream",
     "text": [
      "Hello Mumbai..!!\n",
      "Hello Mumbai..!!\n",
      "Hello Mumbai..!!\n",
      "Hello Mumbai..!!\n",
      "Hello Mumbai..!!\n",
      "Hello Mumbai..!!\n",
      "Hello Mumbai..!!\n",
      "Hello Mumbai..!!\n",
      "Hello Mumbai..!!\n",
      "Hello Mumbai..!!\n"
     ]
    }
   ],
   "source": [
    "#loop\n",
    "#while loop , for loop\n",
    "\n",
    "i = 1\n",
    "while i<=10:\n",
    "    print(\"Hello Mumbai..!!\")\n",
    "    i = i+1"
   ]
  },
  {
   "cell_type": "code",
   "execution_count": 3,
   "metadata": {},
   "outputs": [
    {
     "name": "stdout",
     "output_type": "stream",
     "text": [
      "Hello Mumbai..!!  1\n",
      "Hello Mumbai..!!  2\n",
      "Hello Mumbai..!!  3\n",
      "Hello Mumbai..!!  4\n",
      "Hello Mumbai..!!  5\n",
      "Hello Mumbai..!!  6\n",
      "Hello Mumbai..!!  7\n",
      "Hello Mumbai..!!  8\n",
      "Hello Mumbai..!!  9\n",
      "Hello Mumbai..!!  10\n"
     ]
    }
   ],
   "source": [
    "i = 1\n",
    "while i<=10:\n",
    "    print(f\"Hello Mumbai..!!  {i}\")\n",
    "    i = i+1"
   ]
  },
  {
   "cell_type": "code",
   "execution_count": null,
   "metadata": {},
   "outputs": [],
   "source": []
  }
 ],
 "metadata": {
  "kernelspec": {
   "display_name": "Python 3",
   "language": "python",
   "name": "python3"
  },
  "language_info": {
   "codemirror_mode": {
    "name": "ipython",
    "version": 3
   },
   "file_extension": ".py",
   "mimetype": "text/x-python",
   "name": "python",
   "nbconvert_exporter": "python",
   "pygments_lexer": "ipython3",
   "version": "3.8.3"
  }
 },
 "nbformat": 4,
 "nbformat_minor": 4
}
